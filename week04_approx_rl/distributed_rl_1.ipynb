{
 "cells": [
  {
   "cell_type": "markdown",
   "metadata": {
    "id": "1NDjJiqysoT-"
   },
   "source": [
    "# Deep Q-Network implementation.\n",
    "\n",
    "This homework shamelessly demands you to implement DQN — an approximate Q-learning algorithm with experience replay and target networks — and see if it works any better this way.\n",
    "\n",
    "**Papers:**\n",
    "\n",
    "[1] Original paper, 2013: https://arxiv.org/pdf/1312.5602.pdf\n",
    "\n",
    "[2] Extended paper, Nature, 2015: https://web.stanford.edu/class/psych209/Readings/MnihEtAlHassibis15NatureControlDeepRL.pdf\n",
    "\n",
    "[3] Rainbow, 2017: https://arxiv.org/pdf/1710.02298.pdf"
   ]
  },
  {
   "cell_type": "markdown",
   "metadata": {
    "id": "BcLhaXMKsoT_"
   },
   "source": [
    "**This notebook is the main homework notebook.**\n",
    "Another notebook is given for debug: (**homework_pytorch_debug**). The debug notebook is not supported anymore, the codes have diverged. However, it can be useful in some cases. The tasks are similar and they used to share most of the code. The main difference is in environments. In main notebook it can take some 2 hours for the agent to start improving so it seems reasonable to launch the algorithm on a simpler env first. In debug one it is CartPole and it will train in several minutes.\n",
    "\n",
    "**About evaluation:** All points are only given for the main notebook.\n",
    "\n",
    "**Plan and evaluation points:**\n",
    "1. Getting to know the environment: most of the code is implemented for you\n",
    "2. DQN as it is (10 points): the main part of DQN implementation\n",
    "3. Main Loop (3 points): the training loop itself. Please, note, it can be really time-consuming, and implementation bugs can arise.\n",
    "4. Interpretation (2 points): calculation of episode statistics and their interpretation"
   ]
  },
  {
   "cell_type": "code",
   "metadata": {
    "id": "IVo0UxTWsoT_",
    "ExecuteTime": {
     "end_time": "2025-04-12T17:31:09.516070Z",
     "start_time": "2025-04-12T17:31:08.351514Z"
    }
   },
   "source": [
    "import sys, os\n",
    "if 'google.colab' in sys.modules and not os.path.exists('.setup_complete'):\n",
    "    os.makedirs('dqn', exist_ok=True)\n",
    "    os.makedirs('test_td_loss', exist_ok=True)\n",
    "\n",
    "    !wget -q https://raw.githubusercontent.com/yandexdataschool/Practical_RL/master/setup_colab.sh -O- | bash\n",
    "\n",
    "    !wget -q https://raw.githubusercontent.com/yandexdataschool/Practical_RL/master/week04_approx_rl/dqn/atari_wrappers.py -P dqn/\n",
    "    !wget -q https://raw.githubusercontent.com/yandexdataschool/Practical_RL/master/week04_approx_rl/dqn/utils.py -P dqn/\n",
    "    !wget -q https://raw.githubusercontent.com/yandexdataschool/Practical_RL/master/week04_approx_rl/dqn/replay_buffer.py -P dqn/\n",
    "    !wget -q https://raw.githubusercontent.com/yandexdataschool/Practical_RL/master/week04_approx_rl/dqn/framebuffer.py -P dqn/\n",
    "    !wget -q https://raw.githubusercontent.com/yandexdataschool/Practical_RL/master/week04_approx_rl/dqn/analysis.py -P dqn/\n",
    "    !wget -q https://raw.githubusercontent.com/yandexdataschool/Practical_RL/master/week04_approx_rl/dqn/logger.py -P dqn/\n",
    "    !wget -q https://raw.githubusercontent.com/yandexdataschool/Practical_RL/master/week04_approx_rl/test_td_loss/compute_td_loss.py -P test_td_loss/\n",
    "    !wget -q https://raw.githubusercontent.com/yandexdataschool/Practical_RL/master/week04_approx_rl/requirements.txt\n",
    "\n",
    "    !pip install -r requirements.txt\n",
    "\n",
    "    !touch .setup_complete\n",
    "\n",
    "# This code creates a virtual display to draw game images on.\n",
    "# It will have no effect if your machine has a monitor.\n",
    "if type(os.environ.get(\"DISPLAY\")) is not str or len(os.environ.get(\"DISPLAY\")) == 0:\n",
    "    !bash ../xvfb start\n",
    "    os.environ['DISPLAY'] = ':1'"
   ],
   "outputs": [
    {
     "name": "stdout",
     "output_type": "stream",
     "text": [
      "Starting virtual X frame buffer: Xvfb../xvfb: line 24: start-stop-daemon: command not found\r\n",
      ".\r\n"
     ]
    }
   ],
   "execution_count": 1
  },
  {
   "cell_type": "markdown",
   "metadata": {
    "id": "KkrBeP7YsoUA"
   },
   "source": [
    "__Frameworks__ - we'll accept this homework in any deep learning framework. This particular notebook was designed for PyTorch, but you find it easy to adapt it to almost any Python-based deep learning framework."
   ]
  },
  {
   "cell_type": "code",
   "metadata": {
    "id": "P8WoWe9DsoUA",
    "ExecuteTime": {
     "end_time": "2025-04-12T17:31:09.915568Z",
     "start_time": "2025-04-12T17:31:09.530789Z"
    }
   },
   "source": [
    "%matplotlib inline\n",
    "import gymnasium as gym\n",
    "import ale_py\n",
    "import numpy as np\n",
    "import matplotlib.pyplot as plt\n",
    "\n",
    "gym.register_envs(ale_py)"
   ],
   "outputs": [],
   "execution_count": 2
  },
  {
   "cell_type": "markdown",
   "metadata": {
    "id": "6GQBgViKsoUA"
   },
   "source": [
    "### Let's play some old videogames\n",
    "![img](https://github.com/yandexdataschool/Practical_RL/raw/master/yet_another_week/_resource/nerd.png)\n",
    "\n",
    "This time we're gonna apply approximate Q-learning to an Atari game called Breakout. It's not the hardest thing out there, but it's definitely way more complex than anything we have tried before."
   ]
  },
  {
   "cell_type": "markdown",
   "metadata": {},
   "source": [
    "**These are various versions of Breakout provided by Gynmasium:**"
   ]
  },
  {
   "cell_type": "code",
   "metadata": {
    "ExecuteTime": {
     "end_time": "2025-04-12T17:31:09.999007Z",
     "start_time": "2025-04-12T17:31:09.996081Z"
    }
   },
   "source": [
    "all_names = list(gym.envs.registry.keys())\n",
    "names_breakout = [name for name in all_names if \"Break\" in name]\n",
    "names_breakout"
   ],
   "outputs": [
    {
     "data": {
      "text/plain": [
       "['Breakout-v0',\n",
       " 'BreakoutDeterministic-v0',\n",
       " 'BreakoutNoFrameskip-v0',\n",
       " 'Breakout-v4',\n",
       " 'BreakoutDeterministic-v4',\n",
       " 'BreakoutNoFrameskip-v4',\n",
       " 'Breakout-ram-v0',\n",
       " 'Breakout-ramDeterministic-v0',\n",
       " 'Breakout-ramNoFrameskip-v0',\n",
       " 'Breakout-ram-v4',\n",
       " 'Breakout-ramDeterministic-v4',\n",
       " 'Breakout-ramNoFrameskip-v4',\n",
       " 'ALE/Breakout-v5',\n",
       " 'ALE/Breakout-ram-v5']"
      ]
     },
     "execution_count": 3,
     "metadata": {},
     "output_type": "execute_result"
    }
   ],
   "execution_count": 3
  },
  {
   "cell_type": "code",
   "metadata": {
    "id": "S_zvw_31soUA",
    "ExecuteTime": {
     "end_time": "2025-04-12T17:31:10.014060Z",
     "start_time": "2025-04-12T17:31:10.012337Z"
    }
   },
   "source": [
    "# ENV_NAME = \"BreakoutDeterministic-v4\"  # this one is simpler\n",
    "ENV_NAME = \"ALE/Breakout-v5\""
   ],
   "outputs": [],
   "execution_count": 4
  },
  {
   "cell_type": "markdown",
   "metadata": {},
   "source": [
    "If you are curious about Atari environments in Gymnasium, please, refer to:\n",
    "- [4] Gymnasium docs: https://gymnasium.farama.org/environments/atari/\n",
    "- [5] Longer paper: https://arxiv.org/abs/1709.06009\n",
    "- [6] Shorter paper: https://www.ijcai.org/Proceedings/2018/0787.pdf\n",
    "\n",
    "For now it's enough to know about the v5 environments:\n",
    "- v5 environments are recommended for use\n",
    "- frame_skip=5, every 5-th frame is shown to the agent and the chosen action is executed for the next 5 moves\n",
    "- randomness comes from repeat_action_probability=0.25: with this probability the previous action is executed instead of the chosen action"
   ]
  },
  {
   "cell_type": "markdown",
   "metadata": {
    "id": "xT9BvasNsoUA"
   },
   "source": [
    "## Getting to know the Environment"
   ]
  },
  {
   "cell_type": "markdown",
   "metadata": {
    "id": "iwN8jA0OsoUA"
   },
   "source": [
    "**Let's see what observations look like.**"
   ]
  },
  {
   "cell_type": "code",
   "metadata": {
    "ExecuteTime": {
     "end_time": "2025-04-12T17:31:10.140343Z",
     "start_time": "2025-04-12T17:31:10.025654Z"
    }
   },
   "source": [
    "env = gym.make(ENV_NAME, render_mode=\"rgb_array\")\n",
    "env.reset()\n",
    "plt.imshow(env.render())\n",
    "plt.show()"
   ],
   "outputs": [
    {
     "name": "stderr",
     "output_type": "stream",
     "text": [
      "A.L.E: Arcade Learning Environment (version 0.10.2+c9d4b19)\n",
      "[Powered by Stella]\n"
     ]
    },
    {
     "data": {
      "text/plain": [
       "<Figure size 640x480 with 1 Axes>"
      ],
      "image/png": "[encoded data removed]"
     },
     "metadata": {},
     "output_type": "display_data"
    }
   ],
   "execution_count": 5
  },
  {
   "cell_type": "markdown",
   "metadata": {},
   "source": [
    "**Some more observations, coming from taking random actions**"
   ]
  },
  {
   "cell_type": "code",
   "metadata": {
    "id": "rUZHU2HdsoUB",
    "ExecuteTime": {
     "end_time": "2025-04-12T17:31:10.568221Z",
     "start_time": "2025-04-12T17:31:10.197081Z"
    }
   },
   "source": [
    "env = gym.make(ENV_NAME, render_mode=\"rgb_array\")\n",
    "env.reset()\n",
    "\n",
    "n_cols = 5\n",
    "n_rows = 2\n",
    "fig = plt.figure(figsize=(16, 9))\n",
    "\n",
    "for row in range(n_rows):\n",
    "    for col in range(n_cols):\n",
    "        ax = fig.add_subplot(n_rows, n_cols, row * n_cols + col + 1)\n",
    "        ax.imshow(env.render())\n",
    "        env.step(env.action_space.sample())\n",
    "plt.show()"
   ],
   "outputs": [
    {
     "data": {
      "text/plain": [
       "<Figure size 1600x900 with 10 Axes>"
      ],
      "image/png": "[encoded data removed]"
     },
     "metadata": {},
     "output_type": "display_data"
    }
   ],
   "execution_count": 6
  },
  {
   "cell_type": "markdown",
   "metadata": {},
   "source": [
    "**About the game:** You have 5 lives and get points for breaking the wall. Higher bricks cost more than the lower ones. There are 4 actions: start game (should be called at the beginning and after each life is lost), move left, move right and do nothing. There are some common wrappers used for Atari environments."
   ]
  },
  {
   "cell_type": "markdown",
   "metadata": {},
   "source": [
    "**Let's take a look at action meanings:**"
   ]
  },
  {
   "cell_type": "code",
   "metadata": {
    "ExecuteTime": {
     "end_time": "2025-04-12T17:31:10.604461Z",
     "start_time": "2025-04-12T17:31:10.602279Z"
    }
   },
   "source": [
    "env.unwrapped.get_action_meanings()"
   ],
   "outputs": [
    {
     "data": {
      "text/plain": [
       "['NOOP', 'FIRE', 'RIGHT', 'LEFT']"
      ]
     },
     "execution_count": 7,
     "metadata": {},
     "output_type": "execute_result"
    }
   ],
   "execution_count": 7
  },
  {
   "cell_type": "markdown",
   "metadata": {},
   "source": [
    "1. NOOP stands for the action of doing nothing\n",
    "2. Right and Left move the platform to the corresponding direction\n",
    "3. Fire releases the ball in the beginning of a life\n",
    "\n",
    "In this assignment we will wrap the environment to execute the \"Fire\" action in the beginning of a life automatically. It will turn the \"FIRE\" action into another \"NOOP\".  \n",
    "Also, we will wrap the environment to make an episode last for 1 life instead of 5 ones.  \n",
    "These transforms are claimed as non-recommended in the paper [5] but it was done in the original paper [1] and it will help the training to converge faster. "
   ]
  },
  {
   "cell_type": "markdown",
   "metadata": {
    "id": "hLNt1fbnsoUB"
   },
   "source": [
    "**Let's play a little.**\n",
    "\n",
    "Pay attention to zoom and fps args of play function. Control: A, D, space."
   ]
  },
  {
   "cell_type": "code",
   "metadata": {
    "id": "WOIL47azsoUB",
    "ExecuteTime": {
     "end_time": "2025-04-12T17:31:10.638581Z",
     "start_time": "2025-04-12T17:31:10.636736Z"
    }
   },
   "source": [
    "# # Does not work in Colab.\n",
    "# Even on a local laptop breaks matplotlib rendering. So it's recommended to restart the notebook after playing.\n",
    "# # Use the Escape button to continue.\n",
    "\n",
    "# from gymnasium.utils.play import play\n",
    "\n",
    "# play(env=gym.make(ENV_NAME, render_mode=\"rgb_array\"), zoom=4, fps=10)"
   ],
   "outputs": [],
   "execution_count": 8
  },
  {
   "cell_type": "markdown",
   "metadata": {},
   "source": [
    "## Wrapping the Environment"
   ]
  },
  {
   "cell_type": "code",
   "metadata": {
    "ExecuteTime": {
     "end_time": "2025-04-12T17:31:10.656155Z",
     "start_time": "2025-04-12T17:31:10.654393Z"
    }
   },
   "source": [
    "def make_basic_env():\n",
    "    return gym.make(ENV_NAME, render_mode=\"rgb_array\")"
   ],
   "outputs": [],
   "execution_count": 9
  },
  {
   "cell_type": "markdown",
   "metadata": {
    "id": "5DPrxQuXsoUB"
   },
   "source": [
    "### Processing game image\n",
    "\n",
    "Let's check the shape and the dtype of the observation:"
   ]
  },
  {
   "cell_type": "code",
   "metadata": {
    "ExecuteTime": {
     "end_time": "2025-04-12T17:31:10.725853Z",
     "start_time": "2025-04-12T17:31:10.668294Z"
    }
   },
   "source": [
    "env = make_basic_env()\n",
    "obs, *_ = env.reset()\n",
    "obs.shape, obs.dtype"
   ],
   "outputs": [
    {
     "data": {
      "text/plain": [
       "((210, 160, 3), dtype('uint8'))"
      ]
     },
     "execution_count": 10,
     "metadata": {},
     "output_type": "execute_result"
    }
   ],
   "execution_count": 10
  },
  {
   "metadata": {
    "ExecuteTime": {
     "end_time": "2025-04-12T17:31:12.421894Z",
     "start_time": "2025-04-12T17:31:10.761327Z"
    }
   },
   "cell_type": "code",
   "source": "!pip install opencv-python",
   "outputs": [
    {
     "name": "stdout",
     "output_type": "stream",
     "text": [
      "Requirement already satisfied: opencv-python in /opt/homebrew/anaconda3/lib/python3.12/site-packages (4.10.0.84)\r\n",
      "Requirement already satisfied: numpy>=1.21.2 in /opt/homebrew/anaconda3/lib/python3.12/site-packages (from opencv-python) (2.2.4)\r\n"
     ]
    }
   ],
   "execution_count": 11
  },
  {
   "cell_type": "markdown",
   "metadata": {},
   "source": [
    "Raw Atari images are large, 210x160x3 by default. However, we don't need that level of detail in order to learn from them.\n",
    "\n",
    "We can thus save a lot of time by preprocessing game image, including\n",
    "* Resizing to a smaller shape, 64x64 (or 84 x 84, which is used in literature)\n",
    "* Converting to grayscale\n",
    "* Cropping irrelevant image parts (top, bottom and edges) \\[we won't do this\\]\n",
    "\n",
    "The images are of the uint8 dtype.  \n",
    "uint8 stands for the 8-bit unsigned integer type.  \n",
    "We are going to store 10^5 or 10^6 observations in memory (RAM), so let's pay attention to preserving the 8-bit type after our transforms."
   ]
  },
  {
   "cell_type": "code",
   "metadata": {
    "ExecuteTime": {
     "end_time": "2025-04-12T17:31:12.633241Z",
     "start_time": "2025-04-12T17:31:12.437832Z"
    }
   },
   "source": [
    "def apply_gray_scale_wrap(env):\n",
    "    # With the argument values chosen as below, the gym.wrappers.AtariPreprocessing wrapper\n",
    "    # only converts images to grayscale and downsamples them the screen_size\n",
    "    env = gym.wrappers.AtariPreprocessing(\n",
    "        env,\n",
    "        noop_max=0,  # the default value 30 can be harmful with FireResetEnv and frame_skip=5\n",
    "        frame_skip=1,  # frame_skip has already been set to 5 inside the env\n",
    "        terminal_on_life_loss=False,  # we do this explicitly in the FireResetEnv wrapper\n",
    "        screen_size=84  # please use 84 (which is the standard value) or 64 (which will save some computations and memory)\n",
    "    )\n",
    "    return env\n",
    "\n",
    "\n",
    "env = make_basic_env()\n",
    "env = apply_gray_scale_wrap(env)\n",
    "\n",
    "obs, *_ = env.reset()\n",
    "\n",
    "assert obs.dtype == np.dtype('uint8'), obs_dtype\n",
    "\n",
    "print(obs.shape, obs.dtype)\n",
    "plt.imshow(obs)\n",
    "plt.show()"
   ],
   "outputs": [
    {
     "name": "stdout",
     "output_type": "stream",
     "text": [
      "(84, 84) uint8\n"
     ]
    },
    {
     "data": {
      "text/plain": [
       "<Figure size 640x480 with 1 Axes>"
      ],
      "image/png": "[encoded data removed]"
     },
     "metadata": {},
     "output_type": "display_data"
    }
   ],
   "execution_count": 12
  },
  {
   "cell_type": "markdown",
   "metadata": {},
   "source": [
    "### Atari specific wrappers\n",
    "\n",
    "We try to make our lives a little easier with the following wrappers:\n",
    "1. EpisodicLifeEnv it makes the signal that dropping a ball is not good more explicit\n",
    "2. Using FireResetEnv: with it the agent doesn't have to perform a special action to fire the ball in the beginning of a life"
   ]
  },
  {
   "cell_type": "code",
   "metadata": {
    "ExecuteTime": {
     "end_time": "2025-04-12T17:31:12.790635Z",
     "start_time": "2025-04-12T17:31:12.684534Z"
    }
   },
   "source": [
    "from dqn.atari_wrappers import FireResetEnv\n",
    "from dqn.atari_wrappers import EpisodicLifeEnv\n",
    "\n",
    "def apply_atary_specific_wrap(env):\n",
    "    env = EpisodicLifeEnv(env)\n",
    "    env = FireResetEnv(env)\n",
    "    return env\n",
    "\n",
    "env = make_basic_env()\n",
    "env = apply_gray_scale_wrap(env)\n",
    "env = apply_atary_specific_wrap(env)\n",
    "\n",
    "obs, *_ = env.reset()\n",
    "\n",
    "print(obs.shape, obs.dtype)\n",
    "plt.imshow(obs)\n",
    "plt.show()"
   ],
   "outputs": [
    {
     "name": "stdout",
     "output_type": "stream",
     "text": [
      "(84, 84) uint8\n"
     ]
    },
    {
     "data": {
      "text/plain": [
       "<Figure size 640x480 with 1 Axes>"
      ],
      "image/png": "[encoded data removed]"
     },
     "metadata": {},
     "output_type": "display_data"
    }
   ],
   "execution_count": 13
  },
  {
   "cell_type": "markdown",
   "metadata": {},
   "source": [
    "### FrameStack\n",
    "To make the game playable from a single observation (note the direction of the ball), we stack 4 consecutive frames:"
   ]
  },
  {
   "cell_type": "code",
   "metadata": {
    "ExecuteTime": {
     "end_time": "2025-04-12T17:31:13.008677Z",
     "start_time": "2025-04-12T17:31:12.838861Z"
    }
   },
   "source": [
    "N_FRAMES_STACKED = 4\n",
    "\n",
    "def make_final_env(apply_frame_stack=True):\n",
    "    \"\"\"\n",
    "    Builds the environment with all the wrappers applied.\n",
    "    The environment is meant be used directly as an RL algorithm input.\n",
    "\n",
    "    apply_frame_stack=False can be useful for vecotrized environments, which are not required for this assignment.\n",
    "    \"\"\"\n",
    "    env = make_basic_env()\n",
    "    env = apply_gray_scale_wrap(env)\n",
    "    env = apply_atary_specific_wrap(env)\n",
    "    if apply_frame_stack:\n",
    "        # env = # your code. Please, use gym.wrappers.FrameStackObservation\n",
    "        env = gym.wrappers.FrameStackObservation(env, N_FRAMES_STACKED)\n",
    "    return env\n",
    "\n",
    "\n",
    "env = make_final_env()\n",
    "\n",
    "obs, *_ = env.reset()\n",
    "print(f\"Shape: {obs.shape}, dtype: {obs.dtype}, Python object type: {type(obs)}\")\n",
    "for _ in range(N_FRAMES_STACKED - 1):\n",
    "    obs, *_ = env.step(env.action_space.sample())\n",
    "print()\n",
    "\n",
    "\n",
    "print(\"Frames, left to right: from older to more recent. The ball is dropping.\")\n",
    "_, axes = plt.subplots(figsize=(len(obs) * 3, 4), ncols=len(obs))\n",
    "for ax, frame in zip(axes, obs):\n",
    "    ax.imshow(frame)\n",
    "plt.show()"
   ],
   "outputs": [
    {
     "name": "stdout",
     "output_type": "stream",
     "text": [
      "Shape: (4, 84, 84), dtype: uint8, Python object type: <class 'numpy.ndarray'>\n",
      "\n",
      "Frames, left to right: from older to more recent. The ball is dropping.\n"
     ]
    },
    {
     "data": {
      "text/plain": [
       "<Figure size 1200x400 with 4 Axes>"
      ],
      "image/png": "[encoded data removed]"
     },
     "metadata": {},
     "output_type": "display_data"
    }
   ],
   "execution_count": 14
  },
  {
   "cell_type": "markdown",
   "metadata": {},
   "source": [
    "**That is the final version of the environment we are going to do RL on.**\n",
    "\n",
    "**Let's discuss the representation of an obsevation.**\\\n",
    "An observation is a 4-frame-stack of grayscale images with reduced resolution.\\\n",
    "Memory (RAM) is a high-demand resource in this task. That's why:\n",
    "1. We use the uint8 dtype instead of float32 the neural network will operate on\n",
    "2. We don't represent them as numpy.ndarrays. **LazyFrames** are used by gym.wrappers.FrameStack instead. 2 consecutive observations share 3 of 4 frames. LazyFrames make use of this fact to save memory.\n",
    "When we feed the observations to neural networks, we should remember to scale them to the \\[-1, 1\\] range. We'll implement scaling as the first layer of a neural network, but that'll be later."
   ]
  },
  {
   "cell_type": "markdown",
   "metadata": {},
   "source": [
    "**The ball is dropping, but its hard to notice. Let's define a function to render more human-readable images:**"
   ]
  },
  {
   "cell_type": "code",
   "metadata": {
    "ExecuteTime": {
     "end_time": "2025-04-12T17:31:13.073633Z",
     "start_time": "2025-04-12T17:31:13.028299Z"
    }
   },
   "source": [
    "# def merge_frame_stack_to_plot(frame_stack_obs: np.ndarray | gym.wrappers.frame_stack.LazyFrames):\n",
    "def merge_frame_stack_to_plot(frame_stack_obs):\n",
    "    \"\"\"\n",
    "    A helper function to plot a frame stack as a single human-interpretable image.\n",
    "\n",
    "    Brighter pixels are more recent, pale pixels are older.\n",
    "    Motions goes from pale to bright.\n",
    "\n",
    "    Note! This function is designed for human vision convenience and it is NOT supposed to be used as part of\n",
    "    data preprocessing for the Reinforcement Learning agent.\n",
    "    \"\"\"\n",
    "    weights = np.ones(frame_stack_obs.shape[0], dtype=float)\n",
    "    weights[-1] += weights.sum()\n",
    "    weights /= weights.sum()\n",
    "    result = (weights[:, None, None] * frame_stack_obs).sum(0)\n",
    "    return result\n",
    "\n",
    "\n",
    "obs_joint = merge_frame_stack_to_plot(obs)\n",
    "plt.imshow(obs_joint)\n",
    "plt.show()"
   ],
   "outputs": [
    {
     "data": {
      "text/plain": [
       "<Figure size 640x480 with 1 Axes>"
      ],
      "image/png": "[encoded data removed]"
     },
     "metadata": {},
     "output_type": "display_data"
    }
   ],
   "execution_count": 15
  },
  {
   "cell_type": "markdown",
   "metadata": {},
   "source": [
    "Hope that's better"
   ]
  },
  {
   "cell_type": "code",
   "metadata": {
    "ExecuteTime": {
     "end_time": "2025-04-12T17:31:13.100316Z",
     "start_time": "2025-04-12T17:31:13.098526Z"
    }
   },
   "source": [
    "N_ACTIONS = env.action_space.n\n",
    "STATE_SHAPE = env.observation_space.shape"
   ],
   "outputs": [],
   "execution_count": 16
  },
  {
   "cell_type": "markdown",
   "metadata": {
    "id": "4iJM3IAwsoUB"
   },
   "source": [
    "**Let's see if the game is still playable after applying the wrappers.**\n",
    "At playing the EpisodicLifeEnv wrapper seems not to work but actually it does (because after when life finishes a new ball is dropped automatically - it means that FireResetEnv wrapper understands that a new episode began).\n",
    "\n",
    "**Not supported for now.**"
   ]
  },
  {
   "cell_type": "markdown",
   "metadata": {
    "id": "jhiOKsQvsoUC"
   },
   "source": [
    "## DQN as it is (10 pts)"
   ]
  },
  {
   "cell_type": "markdown",
   "metadata": {
    "id": "aspwJFiGsoUC"
   },
   "source": [
    "### Building a network\n",
    "\n",
    "We now need to build a neural network that can map images to state q-values. This network will be called on every agent's step so it better not be resnet-152 unless you have an array of GPUs. Instead, you can use strided convolutions with a small number of features to save time and memory.\n",
    "\n",
    "You can build any architecture you want, but you can find a couple of examples on diagrams below."
   ]
  },
  {
   "cell_type": "markdown",
   "metadata": {
    "id": "YbZIucfksoUC"
   },
   "source": [
    "**Dueling network:**\\\n",
    "Paper: https://arxiv.org/pdf/1511.06581.pdf\n",
    "$$Q_{\\theta}(s, a) = V_{\\eta}(f_{\\xi}(s)) + A_{\\psi}(f_{\\xi}(s), a) - \\frac{\\sum_{a'}A_{\\psi}(f_{\\xi}(s), a')}{N_{actions}},$$\n",
    "where $\\xi$, $\\eta$, and $\\psi$ are, respectively, the parameters of the\n",
    "shared encoder $f_ξ$ , of the value stream $V_\\eta$ , and of the advantage stream $A_\\psi$; and $\\theta = \\{\\xi, \\eta, \\psi\\}$ is their concatenation.\n",
    "\n",
    "This is what it looks like:\n",
    "\n",
    "Simple, expects height=width=64\n",
    "\n",
    "<!-- <img src=\"img/dueling_basic.png\" alt=\"dueling_basic\" width=\"500\"/> -->\n",
    "![img](https://github.com/yandexdataschool/Practical_RL/raw/master/week04_approx_rl/img/dueling_basic.png)\n",
    "\n",
    "Nature DQN ([2]), expects height=width=84\n",
    "\n",
    "<!-- <img src=\"img/dueling_nature.png\" alt=\"dueling_nature\" width=\"500\"/> -->\n",
    "![img](https://github.com/yandexdataschool/Practical_RL/raw/master/week04_approx_rl/img/dueling_nature.png)\n"
   ]
  },
  {
   "cell_type": "code",
   "metadata": {
    "colab": {
     "base_uri": "https://localhost:8080/"
    },
    "id": "SPPmY6wIsoUC",
    "outputId": "717e2355-008e-4994-b5f2-1c8cf98ac445",
    "ExecuteTime": {
     "end_time": "2025-04-12T17:31:14.816715Z",
     "start_time": "2025-04-12T17:31:13.119803Z"
    }
   },
   "source": [
    "import torch\n",
    "import torch.nn as nn\n",
    "device = torch.device('cuda' if torch.cuda.is_available() else 'cpu')\n",
    "device"
   ],
   "outputs": [
    {
     "data": {
      "text/plain": [
       "device(type='cpu')"
      ]
     },
     "execution_count": 17,
     "metadata": {},
     "output_type": "execute_result"
    }
   ],
   "execution_count": 17
  },
  {
   "cell_type": "markdown",
   "metadata": {},
   "source": [
    "These constants will be useful"
   ]
  },
  {
   "cell_type": "code",
   "metadata": {
    "ExecuteTime": {
     "end_time": "2025-04-12T17:31:14.889429Z",
     "start_time": "2025-04-12T17:31:14.886895Z"
    }
   },
   "source": [
    "N_ACTIONS, N_FRAMES_STACKED"
   ],
   "outputs": [
    {
     "data": {
      "text/plain": [
       "(4, 4)"
      ]
     },
     "execution_count": 18,
     "metadata": {},
     "output_type": "execute_result"
    }
   ],
   "execution_count": 18
  },
  {
   "cell_type": "code",
   "metadata": {
    "ExecuteTime": {
     "end_time": "2025-04-12T17:31:15.009666Z",
     "start_time": "2025-04-12T17:31:15.006162Z"
    }
   },
   "source": [
    "class ConvBackbone(nn.Sequential):\n",
    "    \"\"\"\n",
    "    The convolutional part of a DQN model.\n",
    "    Please, don't think about input scaling here: it will be implemented below.\n",
    "    \"\"\"\n",
    "    def __init__(self, c_in: int = N_FRAMES_STACKED) -> None:\n",
    "        super().__init__(\n",
    "            nn.Conv2d(c_in, 16, 8, 4),\n",
    "            nn.ReLU(),\n",
    "            nn.Conv2d(16, 32, 4, 2),\n",
    "            nn.ReLU(),\n",
    "            nn.Conv2d(32, 64, 3, 1),\n",
    "            nn.ReLU(),\n",
    "            # your code,\n",
    "            nn.Flatten(),\n",
    "        )\n",
    "\n",
    "\n",
    "class DuelingDqnHead(nn.Module):\n",
    "    \"\"\"\n",
    "    Implenets the Dueling DQN logic.\n",
    "    Please, don't think about gradient scaling here (if you know what it is about): it will be implemented below.\n",
    "    \"\"\"\n",
    "    def __init__(self, n_actions, inp_size=64 * 7 * 7, hidden_size=512) -> None:\n",
    "        super().__init__()\n",
    "        self.adv_stream = nn.Sequential(\n",
    "            nn.Linear(inp_size, hidden_size),\n",
    "            nn.ReLU(),\n",
    "            nn.Linear(hidden_size, n_actions)\n",
    "        )\n",
    "        self.value_stream = nn.Sequential(\n",
    "            nn.Linear(inp_size, hidden_size),\n",
    "            nn.ReLU(),\n",
    "            nn.Linear(hidden_size, 1)\n",
    "        )\n",
    "\n",
    "    def forward(self, x: torch.Tensor) -> torch.Tensor:\n",
    "        assert x.ndim == 2, x.shape  # (batch_size, n_features)\n",
    "        # your code\n",
    "        # When calculating the mean advantage, please, remember, x is a batched input!\n",
    "        adv = self.adv_stream(x)\n",
    "        value = self.value_stream(x)\n",
    "        # print(adv.shape, value.shape)\n",
    "\n",
    "        mean_adv = adv.mean(dim=1, keepdim=True)\n",
    "        # print(mean_adv.shape)\n",
    "        adv -= mean_adv\n",
    "\n",
    "        return value + adv\n"
   ],
   "outputs": [],
   "execution_count": 19
  },
  {
   "cell_type": "markdown",
   "metadata": {},
   "source": [
    "Let's make a simple test for the network architecture:"
   ]
  },
  {
   "cell_type": "code",
   "metadata": {
    "ExecuteTime": {
     "end_time": "2025-04-12T17:31:15.119189Z",
     "start_time": "2025-04-12T17:31:15.042603Z"
    }
   },
   "source": [
    "@torch.no_grad()\n",
    "def test_network_part_shapes(backbone, head):\n",
    "    batch_size = 3\n",
    "    env = make_final_env()\n",
    "    s, _ = env.reset()\n",
    "    inp = torch.rand(batch_size, *s.shape)\n",
    "\n",
    "    features = backbone(inp)\n",
    "    print(features.shape)\n",
    "    qvalues = head(features)\n",
    "\n",
    "    assert features.ndim == 2, features.shape\n",
    "    assert features.shape[0] == batch_size, features.shape\n",
    "    \n",
    "    assert qvalues.ndim == 2, qvalues.shape\n",
    "    assert qvalues.shape[0] == batch_size, qvalues.shape\n",
    "    assert qvalues.shape[1] == N_ACTIONS, qvalues.shape\n",
    "\n",
    "    print(\"Test passed!\")\n",
    "\n",
    "test_network_part_shapes(\n",
    "    backbone=ConvBackbone(N_FRAMES_STACKED),\n",
    "    head=DuelingDqnHead(N_ACTIONS),\n",
    ")"
   ],
   "outputs": [
    {
     "name": "stdout",
     "output_type": "stream",
     "text": [
      "torch.Size([3, 3136])\n",
      "Test passed!\n"
     ]
    }
   ],
   "execution_count": 20
  },
  {
   "cell_type": "markdown",
   "metadata": {},
   "source": [
    "**Now let's build a full model.**"
   ]
  },
  {
   "cell_type": "code",
   "metadata": {
    "ExecuteTime": {
     "end_time": "2025-04-12T17:31:15.145365Z",
     "start_time": "2025-04-12T17:31:15.141928Z"
    }
   },
   "source": [
    "MAX_UINT_8 = 2 ** 8 - 1\n",
    "\n",
    "\n",
    "class InputScaler(nn.Module):\n",
    "    def __init__(self, mult=1 / MAX_UINT_8):\n",
    "        super().__init__()\n",
    "        self.mult = mult\n",
    "\n",
    "    def forward(self, x: torch.Tensor) -> torch.Tensor:\n",
    "        return x * self.mult\n",
    "\n",
    "\n",
    "class GradScalerFunctional(torch.autograd.Function):\n",
    "    \"\"\"\n",
    "    A torch.autograd.Function works as Identity on forward pass\n",
    "    and scales the gradient by scale_factor on backward pass.\n",
    "    \"\"\"\n",
    "    @staticmethod\n",
    "    def forward(ctx, input, scale_factor):\n",
    "        ctx.scale_factor = scale_factor\n",
    "        return input\n",
    "\n",
    "    @staticmethod\n",
    "    def backward(ctx, grad_output):\n",
    "        scale_factor = ctx.scale_factor\n",
    "        grad_input = grad_output * scale_factor\n",
    "        return grad_input, None\n",
    "\n",
    "\n",
    "class GradScaler(nn.Module):\n",
    "    \"\"\"\n",
    "    An nn.Module incapsulating GradScalerFunctional\n",
    "    \"\"\"\n",
    "    def __init__(self, scale_factor: float):\n",
    "        super().__init__()\n",
    "        self.scale_factor = scale_factor\n",
    "\n",
    "    def forward(self, x):\n",
    "        return GradScalerFunctional.apply(x, self.scale_factor)\n",
    "\n",
    "\n",
    "class DQNetworkDueling(nn.Sequential):\n",
    "    def __init__(self, c_in: int, n_actions: int) -> None:\n",
    "        input_scaler = InputScaler()  # the inputs come from the uint8 range\n",
    "        backbone = ConvBackbone(c_in=c_in)  # your code\n",
    "        grad_scaler = GradScaler(1 / 2**0.5)  # Dueling DQN suggests do scale the gradient by 1 / sqrt(2)\n",
    "        head = DuelingDqnHead(n_actions=n_actions)\n",
    "        super().__init__(input_scaler, backbone, grad_scaler, head)"
   ],
   "outputs": [],
   "execution_count": 21
  },
  {
   "cell_type": "code",
   "metadata": {
    "ExecuteTime": {
     "end_time": "2025-04-12T17:31:15.236601Z",
     "start_time": "2025-04-12T17:31:15.156828Z"
    }
   },
   "source": [
    "@torch.no_grad()\n",
    "def test_network_shapes(model):\n",
    "    batch_size = 3\n",
    "    env = make_final_env()\n",
    "    s, _ = env.reset()\n",
    "    inp = torch.rand(batch_size, *s.shape)\n",
    "\n",
    "    qvalues = model(inp)\n",
    "    \n",
    "    assert qvalues.ndim == 2, qvalues.shape\n",
    "    assert qvalues.shape[0] == batch_size, qvalues.shape\n",
    "    assert qvalues.shape[1] == N_ACTIONS, qvalues.shape\n",
    "\n",
    "    print(\"Test passed!\")\n",
    "\n",
    "test_network_shapes(model=DQNetworkDueling(N_FRAMES_STACKED, N_ACTIONS))"
   ],
   "outputs": [
    {
     "name": "stdout",
     "output_type": "stream",
     "text": [
      "Test passed!\n"
     ]
    }
   ],
   "execution_count": 22
  },
  {
   "cell_type": "markdown",
   "metadata": {},
   "source": [
    "**Now let's wrap our model into an Agent class.**  \n",
    "It will implement epsilon-greedy policy on numpy ndarrays."
   ]
  },
  {
   "cell_type": "code",
   "metadata": {
    "ExecuteTime": {
     "end_time": "2025-04-12T17:31:15.325273Z",
     "start_time": "2025-04-12T17:31:15.321624Z"
    }
   },
   "source": [
    "class DQNAgent(nn.Module):\n",
    "    \"\"\"\n",
    "    Epsilon-greedy policy with a torch.nn.Module Q-value estimator.\n",
    "    \"\"\"\n",
    "\n",
    "    def __init__(self, q_network: nn.Module, epsilon=1) -> None:\n",
    "        super().__init__()\n",
    "        self.epsilon = epsilon\n",
    "        self.q_network = q_network\n",
    "\n",
    "    def forward(self, state_t):\n",
    "        \"\"\"\n",
    "        takes agent's observation (tensor), returns qvalues (tensor)\n",
    "        :param state_t: a batch of 4-frame buffers, shape = [batch_size, 4, h, w]\n",
    "        \"\"\"\n",
    "        # Use your network to compute qvalues for given state\n",
    "        qvalues =  self.q_network(state_t)\n",
    "        return qvalues\n",
    "\n",
    "    @torch.no_grad()  # we don't need autograd here, so let's save the computations\n",
    "    def get_qvalues(self, states: np.ndarray) -> np.ndarray:\n",
    "        \"\"\"\n",
    "        like forward, but works on numpy arrays, not tensors\n",
    "        \"\"\"\n",
    "        model_device = next(self.parameters()).device\n",
    "        states_pt = torch.tensor(\n",
    "            np.array(states), device=model_device, dtype=torch.float32\n",
    "        )\n",
    "        # Use your network to compute qvalues for given state\n",
    "        qvalues_pt = self.forward(states_pt)\n",
    "        qvalues = qvalues_pt.data.cpu().numpy()\n",
    "        return qvalues\n",
    "\n",
    "    def sample_actions_by_qvalues(self, qvalues: np.ndarray, greedy: bool = False) -> np.ndarray:\n",
    "        \"\"\"pick actions given qvalues. Uses epsilon-greedy exploration strategy.\"\"\"\n",
    "        batch_size, n_actions = qvalues.shape\n",
    "        greedy_actions = qvalues.argmax(axis=-1)\n",
    "        if greedy:\n",
    "            return greedy_actions\n",
    "\n",
    "        random_actions = np.random.randint(qvalues.shape[1], size=batch_size)\n",
    "        should_explore = np.random.binomial(self.epsilon, batch_size)\n",
    "        epsilon_greedy_actions = np.where(\n",
    "            should_explore, greedy_actions, random_actions\n",
    "        )\n",
    "        return epsilon_greedy_actions\n",
    "\n",
    "    def sample_actions(self, states: np.ndarray, greedy: bool = False) -> np.ndarray:\n",
    "        qvalues = self.get_qvalues(states)\n",
    "        actions = self.sample_actions_by_qvalues(qvalues, greedy)\n",
    "        return actions"
   ],
   "outputs": [],
   "execution_count": 23
  },
  {
   "cell_type": "code",
   "metadata": {
    "ExecuteTime": {
     "end_time": "2025-04-12T17:31:15.433112Z",
     "start_time": "2025-04-12T17:31:15.355249Z"
    }
   },
   "source": [
    "test_network_shapes(\n",
    "    model=DQNAgent(DQNetworkDueling(N_FRAMES_STACKED, N_ACTIONS))\n",
    ")"
   ],
   "outputs": [
    {
     "name": "stdout",
     "output_type": "stream",
     "text": [
      "Test passed!\n"
     ]
    }
   ],
   "execution_count": 24
  },
  {
   "cell_type": "code",
   "metadata": {
    "id": "BUFMLKX1soUC",
    "ExecuteTime": {
     "end_time": "2025-04-12T17:31:15.472330Z",
     "start_time": "2025-04-12T17:31:15.459825Z"
    }
   },
   "source": [
    "agent = DQNAgent(\n",
    "    DQNetworkDueling(N_FRAMES_STACKED, N_ACTIONS),\n",
    "    epsilon=0.5\n",
    ").to(device)"
   ],
   "outputs": [],
   "execution_count": 25
  },
  {
   "cell_type": "markdown",
   "metadata": {
    "id": "XbsIT2EdsoUC"
   },
   "source": [
    "Now let's try out our agent to see if it raises any errors."
   ]
  },
  {
   "cell_type": "code",
   "metadata": {
    "id": "pZR3qE2esoUC",
    "ExecuteTime": {
     "end_time": "2025-04-12T17:31:15.545079Z",
     "start_time": "2025-04-12T17:31:15.479903Z"
    }
   },
   "source": [
    "def evaluate(env, agent, n_games=1, greedy=False, t_max=10000, seed=None):\n",
    "    \"\"\" Plays n_games full games. If greedy, picks actions as argmax(qvalues). Returns mean reward. \"\"\"\n",
    "    rewards = []\n",
    "    for _ in range(n_games):\n",
    "        s, _ = env.reset(seed=seed)\n",
    "        reward = 0\n",
    "        for _ in range(t_max):\n",
    "            action = agent.sample_actions(np.array(s)[None], greedy=greedy)[0]\n",
    "            s, r, terminated, truncated, _ = env.step(action)\n",
    "            reward += r\n",
    "            if terminated or truncated:\n",
    "                break\n",
    "\n",
    "        rewards.append(reward)\n",
    "    return np.mean(rewards)\n",
    "\n",
    "print(evaluate(env, agent, n_games=1, greedy=False))\n",
    "print(evaluate(env, agent, n_games=1, greedy=True))"
   ],
   "outputs": [
    {
     "name": "stdout",
     "output_type": "stream",
     "text": [
      "0.0\n",
      "0.0\n"
     ]
    }
   ],
   "execution_count": 26
  },
  {
   "cell_type": "markdown",
   "metadata": {
    "id": "jTBZo5BVsoUC"
   },
   "source": [
    "#### The interface is fairly simple:\n",
    "* `exp_replay.add(obs, act, rw, next_obs, done)` - saves (s,a,r,s',done) tuple into the buffer\n",
    "* `exp_replay.sample(batch_size)` - returns observations, actions, rewards, next_observations and is_done for `batch_size` random samples.\n",
    "* `len(exp_replay)` - returns number of elements stored in replay buffer."
   ]
  },
  {
   "cell_type": "code",
   "metadata": {
    "id": "Ydi0KK9LsoUC",
    "ExecuteTime": {
     "end_time": "2025-04-12T17:31:15.691528Z",
     "start_time": "2025-04-12T17:31:15.576940Z"
    }
   },
   "source": [
    "from dqn.replay_buffer import ReplayBuffer\n",
    "exp_replay = ReplayBuffer(10)\n",
    "\n",
    "for _ in range(30):\n",
    "    exp_replay.add(env.reset()[0], env.action_space.sample(), 1.0, env.reset()[0], done=False)\n",
    "\n",
    "obs_batch, act_batch, reward_batch, next_obs_batch, is_done_batch = exp_replay.sample(5)\n",
    "\n",
    "assert len(exp_replay) == 10, \"experience replay size should be 10 because that's what maximum capacity is\""
   ],
   "outputs": [],
   "execution_count": 27
  },
  {
   "cell_type": "markdown",
   "metadata": {},
   "source": [
    "**The `play_and_record` function, defined below is the main way the agent will interact with the environment during training.**\n",
    "\n",
    "Previously we used to train RL algorithms on entire episodes.  \n",
    "\n",
    "This time we keep the environment constantly running and will be getting small portions of interactions with it.\n",
    "\n",
    "The agent takes several actions (4 actions in [2] and [3]), the corresponding (s, a, r, s', terminated) tuples are put into the replay buffer.  \n",
    "Whenever an episode finishes (i.e. `truncated or terminated`), the environment is reset and the procedure continues as usually.  \n",
    "\n",
    "To make the first step in a constantly running environment, the agent needs to know the state of the environment. This is the meaning of the `initial_state` argument of the function.\n",
    "\n",
    "It's worth noting, the agent does not train on the fresh tuples immediately. The agent trains on samples which are sampled from the buffer.\n",
    "\n",
    "**Implementation note:**\n",
    "We define an `ActionSampler` protocol. The goal of it is to let the function `play_and_record` accept not only `DQNAgent` class instances, but any object that can sample actions. "
   ]
  },
  {
   "cell_type": "code",
   "metadata": {
    "id": "cEXv69KWsoUC",
    "ExecuteTime": {
     "end_time": "2025-04-12T17:31:15.703084Z",
     "start_time": "2025-04-12T17:31:15.699211Z"
    }
   },
   "source": [
    "from typing import Protocol\n",
    "\n",
    "\n",
    "class ActionSampler(Protocol):\n",
    "    \"\"\"\n",
    "    A protocol which defines an Callable which samples actions from states\n",
    "    \"\"\"\n",
    "\n",
    "    def __call__(\n",
    "        self, state: gym.wrappers.stateful_observation.FrameStackObservation\n",
    "    ) -> int: ...\n",
    "\n",
    "\n",
    "class RandomActionSampler:\n",
    "    \"\"\"\n",
    "    We will need this guy to fill the buffer with initial 50-200K observations from a random policy.\n",
    "    \"\"\"\n",
    "\n",
    "    def __init__(self, action_space) -> None:\n",
    "        self.action_space = action_space\n",
    "\n",
    "    def __call__(\n",
    "        self, state: gym.wrappers.stateful_observation.FrameStackObservation\n",
    "    ) -> int:\n",
    "        action = self.action_space.sample()\n",
    "        return action\n",
    "\n",
    "\n",
    "class DqnActionSampler:\n",
    "    \"\"\"\n",
    "    DQNAgent works on batched np.ndarray inputs.\n",
    "    This class uses a DQNAgent to sample actions from single LazyFrames observations.\n",
    "\n",
    "    This will be an epsilon-greedy sampler.\n",
    "    A greedy sampler can be defined as well, but we won't need it.\n",
    "    \"\"\"\n",
    "\n",
    "    def __init__(self, agent: DQNAgent):\n",
    "        self.agent = agent\n",
    "\n",
    "    def __call__(\n",
    "        self, state: gym.wrappers.stateful_observation.FrameStackObservation\n",
    "    ) -> int:\n",
    "        state_batched = np.array(state)[None]\n",
    "        action_batched = self.agent.sample_actions(state_batched)\n",
    "        action = action_batched.item()\n",
    "        return action\n",
    "\n",
    "\n",
    "\n",
    "@torch.no_grad()\n",
    "def play_and_record(\n",
    "    initial_state: gym.wrappers.stateful_observation.FrameStackObservation,\n",
    "    action_sampler: ActionSampler,\n",
    "    env,\n",
    "    exp_replay,\n",
    "    n_steps=1,\n",
    "):\n",
    "    \"\"\"\n",
    "    Play the game for exactly n_steps, record every (s,a,r,s', done) to replay buffer.\n",
    "    Whenever game ends due to termination or truncation, add record with done=terminated and reset the game.\n",
    "    It is guaranteed that env has terminated=False when passed to this function.\n",
    "\n",
    "    PLEASE DO NOT RESET ENV UNLESS IT IS \"DONE\"\n",
    "\n",
    "    :returns: return sum of rewards over time and the state in which the env stays\n",
    "    \"\"\"\n",
    "    s = initial_state\n",
    "    sum_rewards = 0\n",
    "\n",
    "    # Play the game for n_steps as per instructions above\n",
    "    # <YOUR CODE>\n",
    "    for step in range(n_steps):\n",
    "        action = action_sampler(s)\n",
    "        next_s, reward, terminated, truncated, _ = env.step(action)\n",
    "        sum_rewards += reward\n",
    "        exp_replay.add(s, action, reward, next_s, terminated)\n",
    "        if terminated or truncated:\n",
    "            env.reset()\n",
    "        s = next_s\n",
    "\n",
    "    return sum_rewards, s\n"
   ],
   "outputs": [],
   "execution_count": 28
  },
  {
   "cell_type": "code",
   "metadata": {
    "ExecuteTime": {
     "end_time": "2025-04-12T17:31:17.704063Z",
     "start_time": "2025-04-12T17:31:15.710426Z"
    }
   },
   "source": [
    "def test_play_and_record(action_sampler):\n",
    "    exp_replay = ReplayBuffer(10_000)\n",
    "\n",
    "    state, _ = env.reset()\n",
    "    \n",
    "    # action_sampler = RandomActionSampler(env.action_space)\n",
    "    # action_sampler = DqnActionSampler(agent)\n",
    "    play_and_record(state, action_sampler, env, exp_replay, n_steps=1000);\n",
    "    \n",
    "    # if you're using your own experience replay buffer, some of those tests may need correction.\n",
    "    # just make sure you know what your code does\n",
    "    assert len(exp_replay) == 1000, \\\n",
    "        \"play_and_record should have added exactly 1000 steps, \" \\\n",
    "        \"but instead added %i\" % len(exp_replay)\n",
    "    is_dones = list(zip(*exp_replay._storage))[-1]\n",
    "    \n",
    "    assert 0 < np.mean(is_dones) < 0.1, \\\n",
    "        \"Please make sure you restart the game whenever it is 'done' and \" \\\n",
    "        \"record the is_done correctly into the buffer. Got %f is_done rate over \" \\\n",
    "        \"%i steps. [If you think it's your tough luck, just re-run the test]\" % (\n",
    "            np.mean(is_dones), len(exp_replay))\n",
    "    \n",
    "    for _ in range(100):\n",
    "        obs_batch, act_batch, reward_batch, next_obs_batch, is_done_batch = exp_replay.sample(10)\n",
    "        assert obs_batch.shape == next_obs_batch.shape == (10,) + STATE_SHAPE\n",
    "        assert act_batch.shape == (10,), \\\n",
    "            \"actions batch should have shape (10,) but is instead %s\" % str(act_batch.shape)\n",
    "        assert reward_batch.shape == (10,), \\\n",
    "            \"rewards batch should have shape (10,) but is instead %s\" % str(reward_batch.shape)\n",
    "        assert is_done_batch.shape == (10,), \\\n",
    "            \"is_done batch should have shape (10,) but is instead %s\" % str(is_done_batch.shape)\n",
    "        assert [int(i) in (0, 1) for i in is_dones], \\\n",
    "            \"is_done should be strictly True or False\"\n",
    "        assert [0 <= a < N_ACTIONS for a in act_batch], \"actions should be within [0, n_actions)\"\n",
    "    \n",
    "    print(\"Well done!\")\n",
    "\n",
    "\n",
    "print(\"Random:\")\n",
    "test_play_and_record(RandomActionSampler(env.action_space))\n",
    "print(\"DQN:\")\n",
    "test_play_and_record(DqnActionSampler(agent))"
   ],
   "outputs": [
    {
     "name": "stdout",
     "output_type": "stream",
     "text": [
      "Random:\n",
      "Well done!\n",
      "DQN:\n",
      "Well done!\n"
     ]
    }
   ],
   "execution_count": 29
  },
  {
   "cell_type": "code",
   "metadata": {
    "ExecuteTime": {
     "end_time": "2025-04-12T17:31:17.727461Z",
     "start_time": "2025-04-12T17:31:17.712166Z"
    }
   },
   "source": [
    "target_network = DQNetworkDueling(N_FRAMES_STACKED, N_ACTIONS).to(device)\n",
    "target_network.load_state_dict(agent.q_network.state_dict())"
   ],
   "outputs": [
    {
     "data": {
      "text/plain": [
       "<All keys matched successfully>"
      ]
     },
     "execution_count": 30,
     "metadata": {},
     "output_type": "execute_result"
    }
   ],
   "execution_count": 30
  },
  {
   "cell_type": "markdown",
   "metadata": {
    "id": "2idY8QX0soUF"
   },
   "source": [
    "### Learning with... Q-learning\n",
    "Here we write a function similar to `agent.update` from tabular q-learning."
   ]
  },
  {
   "cell_type": "code",
   "metadata": {
    "colab": {
     "base_uri": "https://localhost:8080/"
    },
    "id": "V02HcUYasoUG",
    "outputId": "7a11e3d3-d030-40be-8f14-59b5481749fb",
    "ExecuteTime": {
     "end_time": "2025-04-12T17:31:17.765305Z",
     "start_time": "2025-04-12T17:31:17.761954Z"
    }
   },
   "source": [
    "def compute_td_loss_on_tensors(\n",
    "    states: torch.Tensor,  # (batch_size, *state_shape)\n",
    "    actions: torch.Tensor,  # (batch_size,)\n",
    "    rewards: torch.Tensor,  # (batch_size,)\n",
    "    next_states: torch.Tensor,  # (batch_size, *state_shape)\n",
    "    is_done: torch.Tensor,  # (batch_size,), torch.bool\n",
    "    agent: DQNAgent,\n",
    "    target_network: nn.Module,\n",
    "    gamma: float = 0.99,\n",
    "    check_shapes=False,\n",
    "):\n",
    "    predicted_qvalues = agent(states)  # shape: [batch_size, n_actions]\n",
    "    assert is_done.dtype is torch.bool\n",
    "\n",
    "    # compute q-values for all actions in next states\n",
    "    with torch.no_grad():\n",
    "        predicted_next_qvalues_target = target_network(next_states) # your code;  # shape: [batch_size, n_actions]\n",
    "\n",
    "    # select q-values for chosen actions\n",
    "    predicted_qvalues_for_actions = predicted_qvalues[\n",
    "        range(len(actions)), actions\n",
    "    ]  # shape: [batch_size]\n",
    "\n",
    "    # compute V*(next_states) using predicted next q-values\n",
    "    next_state_values = predicted_next_qvalues_target.max(dim=1)[0] # your code\n",
    "\n",
    "    if check_shapes:\n",
    "        assert (\n",
    "            next_state_values.dim() == 1\n",
    "            and next_state_values.shape[0] == states.shape[0]\n",
    "        ), \"must predict one value per state\"\n",
    "        assert not next_state_values.requires_grad\n",
    "\n",
    "    # compute \"target q-values\" for loss - it's what's inside square parentheses in the above formula.\n",
    "    # at the last state use the simplified formula: Q(s,a) = r(s,a) since s' doesn't exist\n",
    "    target_qvalues_for_actions = rewards + gamma * (1 - is_done.to(torch.int32)) * next_state_values # your code\n",
    "\n",
    "    # mean squared error loss to minimize\n",
    "    loss = torch.mean((predicted_qvalues_for_actions - target_qvalues_for_actions) ** 2)\n",
    "\n",
    "    if check_shapes:\n",
    "        assert (\n",
    "            predicted_next_qvalues_target.data.dim() == 2\n",
    "        ), \"make sure you predicted q-values for all actions in next state\"\n",
    "        assert (\n",
    "            next_state_values.data.dim() == 1\n",
    "        ), \"make sure you computed V(s') as maximum over just the actions axis and not all axes\"\n",
    "        assert (\n",
    "            target_qvalues_for_actions.data.dim() == 1\n",
    "        ), \"there's something wrong with target q-values, they must be a vector\"\n",
    "\n",
    "    return loss"
   ],
   "outputs": [],
   "execution_count": 31
  },
  {
   "cell_type": "code",
   "metadata": {
    "ExecuteTime": {
     "end_time": "2025-04-12T17:31:17.785037Z",
     "start_time": "2025-04-12T17:31:17.780272Z"
    }
   },
   "source": [
    "from test_td_loss.compute_td_loss import test_is_done_is_used, test_compute_td_loss_vanilla\n",
    "\n",
    "test_compute_td_loss_vanilla(compute_td_loss_on_tensors)\n",
    "print(\"Well done!\")"
   ],
   "outputs": [
    {
     "name": "stdout",
     "output_type": "stream",
     "text": [
      "Well done!\n"
     ]
    }
   ],
   "execution_count": 32
  },
  {
   "cell_type": "code",
   "metadata": {
    "ExecuteTime": {
     "end_time": "2025-04-12T17:31:17.838742Z",
     "start_time": "2025-04-12T17:31:17.835080Z"
    }
   },
   "source": [
    "def compute_td_loss_on_tensors_double(\n",
    "    states: torch.Tensor,  # (batch_size, *state_shape)\n",
    "    actions: torch.Tensor,  # (batch_size,)\n",
    "    rewards: torch.Tensor,  # (batch_size,)\n",
    "    next_states: torch.Tensor,  # (batch_size, *state_shape)\n",
    "    is_done: torch.Tensor,  # (batch_size,), torch.bool\n",
    "    agent: nn.Module,\n",
    "    target_network: nn.Module,\n",
    "    gamma: float = 0.99,\n",
    "    check_shapes=False,\n",
    "):\n",
    "    predicted_qvalues = agent(states)  # shape: [batch_size, n_actions]\n",
    "    assert is_done.dtype is torch.bool\n",
    "\n",
    "    # compute q-values for all actions in next states\n",
    "    with torch.no_grad():\n",
    "        predicted_next_qvalues_target = target_network(next_states) # your code;  # shape: [batch_size, n_actions]\n",
    "\n",
    "    # select q-values for chosen actions\n",
    "    predicted_qvalues_for_actions = predicted_qvalues[\n",
    "        range(len(actions)), actions\n",
    "    ]  # shape: [batch_size]\n",
    "\n",
    "    # compute V*(next_states) using predicted next q-values\n",
    "    next_state_values = predicted_next_qvalues_target[range(len(predicted_next_qvalues_target)), predicted_qvalues.argmax(dim=1)]# your code\n",
    "\n",
    "    if check_shapes:\n",
    "        assert (\n",
    "            next_state_values.dim() == 1\n",
    "            and next_state_values.shape[0] == states.shape[0]\n",
    "        ), \"must predict one value per state\"\n",
    "        assert not next_state_values.requires_grad\n",
    "\n",
    "    # compute \"target q-values\" for loss - it's what's inside square parentheses in the above formula.\n",
    "    # at the last state use the simplified formula: Q(s,a) = r(s,a) since s' doesn't exist\n",
    "    target_qvalues_for_actions = rewards + gamma * (1 - is_done.to(torch.int32)) * next_state_values # your code\n",
    "\n",
    "    # mean squared error loss to minimize\n",
    "    loss = torch.mean((predicted_qvalues_for_actions - target_qvalues_for_actions) ** 2)\n",
    "\n",
    "    if check_shapes:\n",
    "        assert (\n",
    "            predicted_next_qvalues_target.data.dim() == 2\n",
    "        ), \"make sure you predicted q-values for all actions in next state\"\n",
    "        assert (\n",
    "            next_state_values.data.dim() == 1\n",
    "        ), \"make sure you computed V(s') as maximum over just the actions axis and not all axes\"\n",
    "        assert (\n",
    "            target_qvalues_for_actions.data.dim() == 1\n",
    "        ), \"there's something wrong with target q-values, they must be a vector\"\n",
    "\n",
    "    return loss"
   ],
   "outputs": [],
   "execution_count": 33
  },
  {
   "cell_type": "code",
   "metadata": {
    "ExecuteTime": {
     "end_time": "2025-04-12T17:31:17.852438Z",
     "start_time": "2025-04-12T17:31:17.848763Z"
    }
   },
   "source": [
    "from test_td_loss.compute_td_loss import test_compute_td_loss_double\n",
    "\n",
    "test_compute_td_loss_double(compute_td_loss_on_tensors_double)\n",
    "print(\"Well done!\")"
   ],
   "outputs": [
    {
     "name": "stdout",
     "output_type": "stream",
     "text": [
      "Well done!\n"
     ]
    }
   ],
   "execution_count": 34
  },
  {
   "cell_type": "markdown",
   "metadata": {},
   "source": [
    "**The following function works on np.ndarrays: it converts its inputs to torch.Tensors and calls the torch-tensor function**"
   ]
  },
  {
   "cell_type": "code",
   "metadata": {
    "ExecuteTime": {
     "end_time": "2025-04-12T17:31:17.905473Z",
     "start_time": "2025-04-12T17:31:17.902529Z"
    }
   },
   "source": [
    "def compute_td_loss(\n",
    "    states,\n",
    "    actions,\n",
    "    rewards,\n",
    "    next_states,\n",
    "    is_done,\n",
    "    agent,\n",
    "    target_network,\n",
    "    gamma=0.99,\n",
    "    check_shapes=False,\n",
    "    device=None,\n",
    "    tensor_loss_evaluator=compute_td_loss_on_tensors_double,\n",
    "):\n",
    "    \"\"\"Compute td loss using torch operations only. Use the formulae above.\"\"\"\n",
    "\n",
    "    if device is None:\n",
    "        device = next(agent.parameters()).device\n",
    "    states = torch.tensor(\n",
    "        states, device=device, dtype=torch.float32\n",
    "    )  # shape: [batch_size, *state_shape]\n",
    "    actions = torch.tensor(\n",
    "        actions, device=device, dtype=torch.int64\n",
    "    )  # shape: [batch_size]\n",
    "    rewards = torch.tensor(\n",
    "        rewards, device=device, dtype=torch.float32\n",
    "    )  # shape: [batch_size]\n",
    "    # shape: [batch_size, *state_shape]\n",
    "    next_states = torch.tensor(next_states, device=device, dtype=torch.float)\n",
    "    is_done = torch.tensor(\n",
    "        is_done, device=device, dtype=torch.bool\n",
    "    )  # shape: [batch_size]\n",
    "\n",
    "    return tensor_loss_evaluator(\n",
    "        states=states,\n",
    "        actions=actions,\n",
    "        rewards=rewards,\n",
    "        next_states=next_states,\n",
    "        is_done=is_done,\n",
    "        agent=agent,\n",
    "        target_network=target_network,\n",
    "        gamma=gamma,\n",
    "        check_shapes=check_shapes,\n",
    "    )\n"
   ],
   "outputs": [],
   "execution_count": 35
  },
  {
   "cell_type": "markdown",
   "metadata": {
    "id": "x8AvquAtsoUG"
   },
   "source": [
    "Sanity checks"
   ]
  },
  {
   "cell_type": "code",
   "metadata": {
    "id": "5nRoOn30soUG",
    "ExecuteTime": {
     "end_time": "2025-04-12T17:31:18.027929Z",
     "start_time": "2025-04-12T17:31:17.980209Z"
    }
   },
   "source": [
    "obs_batch, act_batch, reward_batch, next_obs_batch, is_done_batch = exp_replay.sample(10)\n",
    "\n",
    "loss = compute_td_loss(obs_batch, act_batch, reward_batch, next_obs_batch, is_done_batch,\n",
    "                       agent, target_network,\n",
    "                       gamma=0.99, check_shapes=True)\n",
    "loss.backward()\n",
    "\n",
    "assert loss.requires_grad and tuple(loss.data.size()) == (), \\\n",
    "    \"you must return scalar loss - mean over batch\"\n",
    "assert np.any(next(agent.parameters()).grad.data.cpu().numpy() != 0), \\\n",
    "    \"loss must be differentiable w.r.t. network weights\"\n",
    "assert np.all(next(target_network.parameters()).grad is None), \\\n",
    "    \"target network should not have grads\""
   ],
   "outputs": [],
   "execution_count": 36
  },
  {
   "cell_type": "markdown",
   "metadata": {
    "id": "KIplL0hSsoUG"
   },
   "source": [
    "## Main loop (3 pts)\n",
    "\n",
    "**If deadline is tonight and it has not converged:** It is ok. Send the notebook today and when it converges send it again.\n",
    "If the code is exactly the same points will not be discounted.\n",
    "\n",
    "It's time to put everything together and see if it learns anything."
   ]
  },
  {
   "cell_type": "code",
   "metadata": {
    "id": "-JV-ulB-soUG",
    "ExecuteTime": {
     "end_time": "2025-04-12T17:31:18.045136Z",
     "start_time": "2025-04-12T17:31:18.038850Z"
    }
   },
   "source": [
    "from tqdm.auto import trange\n",
    "from IPython.display import clear_output\n",
    "import matplotlib.pyplot as plt"
   ],
   "outputs": [
    {
     "name": "stderr",
     "output_type": "stream",
     "text": [
      "/Users/pavelvasilev/Documents/ml/ysda/Practical_RL/.venv/lib/python3.13/site-packages/tqdm/auto.py:21: TqdmWarning: IProgress not found. Please update jupyter and ipywidgets. See https://ipywidgets.readthedocs.io/en/stable/user_install.html\n",
      "  from .autonotebook import tqdm as notebook_tqdm\n"
     ]
    }
   ],
   "execution_count": 37
  },
  {
   "cell_type": "code",
   "metadata": {
    "ExecuteTime": {
     "end_time": "2025-04-12T17:31:18.073679Z",
     "start_time": "2025-04-12T17:31:18.069549Z"
    }
   },
   "source": [
    "import random\n",
    "\n",
    "seed = 20 # your favourite seed\n",
    "random.seed(seed)\n",
    "np.random.seed(seed)\n",
    "torch.manual_seed(seed)"
   ],
   "outputs": [
    {
     "data": {
      "text/plain": [
       "<torch._C.Generator at 0x121789730>"
      ]
     },
     "execution_count": 38,
     "metadata": {},
     "output_type": "execute_result"
    }
   ],
   "execution_count": 38
  },
  {
   "cell_type": "code",
   "metadata": {
    "colab": {
     "base_uri": "https://localhost:8080/"
    },
    "id": "-eurxA-_soUG",
    "outputId": "4eb73eb0-771c-442e-a086-50bae3ebd9d8",
    "ExecuteTime": {
     "end_time": "2025-04-12T17:31:18.240899Z",
     "start_time": "2025-04-12T17:31:18.103355Z"
    }
   },
   "source": [
    "env = make_final_env()\n",
    "\n",
    "state, _ = env.reset(seed=seed)\n",
    "\n",
    "agent = DQNAgent(\n",
    "    DQNetworkDueling(N_FRAMES_STACKED, N_ACTIONS),\n",
    "    epsilon=1\n",
    ").to(device)\n",
    "target_network = DQNetworkDueling(N_FRAMES_STACKED, N_ACTIONS).to(device)\n",
    "target_network.load_state_dict(agent.q_network.state_dict())\n",
    "\n",
    "action_sampler = DqnActionSampler(agent)\n",
    "action_sampler_random = RandomActionSampler(env.action_space)"
   ],
   "outputs": [],
   "execution_count": 39
  },
  {
   "cell_type": "markdown",
   "metadata": {
    "id": "WZg25kIasoUG"
   },
   "source": [
    "Buffer of size $10^4$ can probably pass the threshold for this assignment.\n",
    "\n",
    "Larger sizes ($10^5$ and $10^6$ are common) can show a much higher score."
   ]
  },
  {
   "cell_type": "code",
   "metadata": {
    "ExecuteTime": {
     "end_time": "2025-04-12T17:31:18.252760Z",
     "start_time": "2025-04-12T17:31:18.250251Z"
    }
   },
   "source": [
    "len(exp_replay)"
   ],
   "outputs": [
    {
     "data": {
      "text/plain": [
       "10"
      ]
     },
     "execution_count": 40,
     "metadata": {},
     "output_type": "execute_result"
    }
   ],
   "execution_count": 40
  },
  {
   "cell_type": "code",
   "metadata": {
    "id": "_ca9vbW4soUG",
    "ExecuteTime": {
     "end_time": "2025-04-12T17:31:20.375684Z",
     "start_time": "2025-04-12T17:31:18.280663Z"
    }
   },
   "source": [
    "update_frequency = 4  # n_steps for play_and_record; Nature DQN Extended Data Table 1 + Rainbow Table 4: Additional hyper-parameters\n",
    "batch_size = 32  # Nature DQN Extended Data Table 1 + Table 4: Additional hyper-parameters\n",
    "total_steps = 10 * 10**6  # this can be long, feel free to stop the training when the target score is reached\n",
    "decay_steps = 10**6  # Nature DQN Extended Data Table 1\n",
    "\n",
    "opt = torch.optim.Adam(agent.parameters(), lr=6.25e-05, eps=1.4e-4)  # Rainbow\n",
    "\n",
    "init_epsilon = 1  # Nature DQN\n",
    "final_epsilon = 0.1  # Nature DQN\n",
    "\n",
    "loss_freq = 100\n",
    "refresh_target_network_freq = 10_000  # Nature DQN\n",
    "eval_freq = 100\n",
    "\n",
    "max_grad_norm = 10  # Dueling DQN\n",
    "\n",
    "n_lives = 5"
   ],
   "outputs": [],
   "execution_count": 41
  },
  {
   "cell_type": "code",
   "metadata": {
    "id": "oJWs0q-6soUG",
    "ExecuteTime": {
     "end_time": "2025-04-12T17:31:20.385207Z",
     "start_time": "2025-04-12T17:31:20.383442Z"
    }
   },
   "source": [
    "step = 0"
   ],
   "outputs": [],
   "execution_count": 42
  },
  {
   "cell_type": "code",
   "metadata": {
    "id": "675-JU0hsoUG",
    "ExecuteTime": {
     "end_time": "2025-04-12T17:31:20.394458Z",
     "start_time": "2025-04-12T17:31:20.392630Z"
    }
   },
   "source": [
    "import time\n",
    "\n",
    "def wait_for_keyboard_interrupt():\n",
    "    try:\n",
    "        while True:\n",
    "            time.sleep(1)\n",
    "    except KeyboardInterrupt:\n",
    "        pass"
   ],
   "outputs": [],
   "execution_count": 43
  },
  {
   "cell_type": "code",
   "metadata": {
    "ExecuteTime": {
     "end_time": "2025-04-12T17:31:20.516934Z",
     "start_time": "2025-04-12T17:31:20.401764Z"
    }
   },
   "source": [
    "from dqn.utils import linear_decay, is_enough_ram\n",
    "from torch.utils.tensorboard import SummaryWriter\n",
    "from dqn.logger import Logger"
   ],
   "outputs": [],
   "execution_count": 44
  },
  {
   "cell_type": "code",
   "metadata": {
    "ExecuteTime": {
     "end_time": "2025-04-12T17:31:20.525713Z",
     "start_time": "2025-04-12T17:31:20.524186Z"
    }
   },
   "source": "use_tensorboard = False  # Set to False to use simple matplotlib",
   "outputs": [],
   "execution_count": 45
  },
  {
   "metadata": {
    "ExecuteTime": {
     "end_time": "2025-04-12T17:31:20.534190Z",
     "start_time": "2025-04-12T17:31:20.532821Z"
    }
   },
   "cell_type": "code",
   "source": [
    "# import wandb\n",
    "#\n",
    "# wandb.init(project=\"dqn\")"
   ],
   "outputs": [],
   "execution_count": 46
  },
  {
   "cell_type": "code",
   "metadata": {
    "ExecuteTime": {
     "end_time": "2025-04-12T17:31:20.542999Z",
     "start_time": "2025-04-12T17:31:20.541184Z"
    }
   },
   "source": [
    "logger = Logger(use_tensorboard=use_tensorboard)\n",
    "\n",
    "if use_tensorboard:\n",
    "    %load_ext tensorboard\n",
    "    %tensorboard --logdir runs"
   ],
   "outputs": [],
   "execution_count": 47
  },
  {
   "cell_type": "code",
   "metadata": {
    "ExecuteTime": {
     "end_time": "2025-04-12T17:31:20.680655Z",
     "start_time": "2025-04-12T17:31:20.550190Z"
    }
   },
   "source": [
    "agent = DQNAgent(\n",
    "    DQNetworkDueling(N_FRAMES_STACKED, N_ACTIONS),\n",
    "    epsilon=1\n",
    ").to(device)\n",
    "agent.load_state_dict(torch.load(\"last_state_dict.pt\"))"
   ],
   "outputs": [
    {
     "ename": "RuntimeError",
     "evalue": "Error(s) in loading state_dict for DQNAgent:\n\tMissing key(s) in state_dict: \"q_network.1.0.weight\", \"q_network.1.0.bias\", \"q_network.1.2.weight\", \"q_network.1.2.bias\", \"q_network.1.4.weight\", \"q_network.1.4.bias\", \"q_network.3.adv_stream.0.weight\", \"q_network.3.adv_stream.0.bias\", \"q_network.3.adv_stream.2.weight\", \"q_network.3.adv_stream.2.bias\", \"q_network.3.value_stream.0.weight\", \"q_network.3.value_stream.0.bias\", \"q_network.3.value_stream.2.weight\", \"q_network.3.value_stream.2.bias\". \n\tUnexpected key(s) in state_dict: \"conv.0.weight\", \"conv.0.bias\", \"conv.2.weight\", \"conv.2.bias\", \"conv.4.weight\", \"conv.4.bias\", \"fc.weight\", \"fc.bias\", \"quantile_fc.weight\", \"quantile_fc.bias\", \"fc_out.weight\", \"fc_out.bias\". ",
     "output_type": "error",
     "traceback": [
      "\u001B[31m---------------------------------------------------------------------------\u001B[39m",
      "\u001B[31mRuntimeError\u001B[39m                              Traceback (most recent call last)",
      "\u001B[36mCell\u001B[39m\u001B[36m \u001B[39m\u001B[32mIn[48]\u001B[39m\u001B[32m, line 5\u001B[39m\n\u001B[32m      1\u001B[39m agent = DQNAgent(\n\u001B[32m      2\u001B[39m     DQNetworkDueling(N_FRAMES_STACKED, N_ACTIONS),\n\u001B[32m      3\u001B[39m     epsilon=\u001B[32m1\u001B[39m\n\u001B[32m      4\u001B[39m ).to(device)\n\u001B[32m----> \u001B[39m\u001B[32m5\u001B[39m \u001B[43magent\u001B[49m\u001B[43m.\u001B[49m\u001B[43mload_state_dict\u001B[49m\u001B[43m(\u001B[49m\u001B[43mtorch\u001B[49m\u001B[43m.\u001B[49m\u001B[43mload\u001B[49m\u001B[43m(\u001B[49m\u001B[33;43m\"\u001B[39;49m\u001B[33;43mlast_state_dict.pt\u001B[39;49m\u001B[33;43m\"\u001B[39;49m\u001B[43m)\u001B[49m\u001B[43m)\u001B[49m\n",
      "\u001B[36mFile \u001B[39m\u001B[32m~/Documents/ml/ysda/Practical_RL/.venv/lib/python3.13/site-packages/torch/nn/modules/module.py:2581\u001B[39m, in \u001B[36mModule.load_state_dict\u001B[39m\u001B[34m(self, state_dict, strict, assign)\u001B[39m\n\u001B[32m   2573\u001B[39m         error_msgs.insert(\n\u001B[32m   2574\u001B[39m             \u001B[32m0\u001B[39m,\n\u001B[32m   2575\u001B[39m             \u001B[33m\"\u001B[39m\u001B[33mMissing key(s) in state_dict: \u001B[39m\u001B[38;5;132;01m{}\u001B[39;00m\u001B[33m. \u001B[39m\u001B[33m\"\u001B[39m.format(\n\u001B[32m   2576\u001B[39m                 \u001B[33m\"\u001B[39m\u001B[33m, \u001B[39m\u001B[33m\"\u001B[39m.join(\u001B[33mf\u001B[39m\u001B[33m'\u001B[39m\u001B[33m\"\u001B[39m\u001B[38;5;132;01m{\u001B[39;00mk\u001B[38;5;132;01m}\u001B[39;00m\u001B[33m\"\u001B[39m\u001B[33m'\u001B[39m \u001B[38;5;28;01mfor\u001B[39;00m k \u001B[38;5;129;01min\u001B[39;00m missing_keys)\n\u001B[32m   2577\u001B[39m             ),\n\u001B[32m   2578\u001B[39m         )\n\u001B[32m   2580\u001B[39m \u001B[38;5;28;01mif\u001B[39;00m \u001B[38;5;28mlen\u001B[39m(error_msgs) > \u001B[32m0\u001B[39m:\n\u001B[32m-> \u001B[39m\u001B[32m2581\u001B[39m     \u001B[38;5;28;01mraise\u001B[39;00m \u001B[38;5;167;01mRuntimeError\u001B[39;00m(\n\u001B[32m   2582\u001B[39m         \u001B[33m\"\u001B[39m\u001B[33mError(s) in loading state_dict for \u001B[39m\u001B[38;5;132;01m{}\u001B[39;00m\u001B[33m:\u001B[39m\u001B[38;5;130;01m\\n\u001B[39;00m\u001B[38;5;130;01m\\t\u001B[39;00m\u001B[38;5;132;01m{}\u001B[39;00m\u001B[33m\"\u001B[39m.format(\n\u001B[32m   2583\u001B[39m             \u001B[38;5;28mself\u001B[39m.\u001B[34m__class__\u001B[39m.\u001B[34m__name__\u001B[39m, \u001B[33m\"\u001B[39m\u001B[38;5;130;01m\\n\u001B[39;00m\u001B[38;5;130;01m\\t\u001B[39;00m\u001B[33m\"\u001B[39m.join(error_msgs)\n\u001B[32m   2584\u001B[39m         )\n\u001B[32m   2585\u001B[39m     )\n\u001B[32m   2586\u001B[39m \u001B[38;5;28;01mreturn\u001B[39;00m _IncompatibleKeys(missing_keys, unexpected_keys)\n",
      "\u001B[31mRuntimeError\u001B[39m: Error(s) in loading state_dict for DQNAgent:\n\tMissing key(s) in state_dict: \"q_network.1.0.weight\", \"q_network.1.0.bias\", \"q_network.1.2.weight\", \"q_network.1.2.bias\", \"q_network.1.4.weight\", \"q_network.1.4.bias\", \"q_network.3.adv_stream.0.weight\", \"q_network.3.adv_stream.0.bias\", \"q_network.3.adv_stream.2.weight\", \"q_network.3.adv_stream.2.bias\", \"q_network.3.value_stream.0.weight\", \"q_network.3.value_stream.0.bias\", \"q_network.3.value_stream.2.weight\", \"q_network.3.value_stream.2.bias\". \n\tUnexpected key(s) in state_dict: \"conv.0.weight\", \"conv.0.bias\", \"conv.2.weight\", \"conv.2.bias\", \"conv.4.weight\", \"conv.4.bias\", \"fc.weight\", \"fc.bias\", \"quantile_fc.weight\", \"quantile_fc.bias\", \"fc_out.weight\", \"fc_out.bias\". "
     ]
    }
   ],
   "execution_count": 48
  },
  {
   "cell_type": "markdown",
   "metadata": {
    "id": "ZEDQhQrdsoUG"
   },
   "source": [
    "Agent is evaluated for 1 life, not for a whole episode of 5 lives. Rewards in evaluation are also truncated. Cuz this is what environment the agent is learning in and in this way mean rewards per life can be compared with initial state value\n",
    "\n",
    "**The goal is to get 15 points in the real env**. So 3 or better 4 points in the preprocessed one will probably be enough. You can interrupt learning then."
   ]
  },
  {
   "cell_type": "markdown",
   "metadata": {
    "id": "s0jLjYGwsoUG"
   },
   "source": [
    "Final scoring is done on a whole episode with all 5 lives."
   ]
  },
  {
   "cell_type": "code",
   "metadata": {
    "id": "xTGVrwwQsoUG",
    "ExecuteTime": {
     "end_time": "2025-04-12T17:31:27.050618Z",
     "start_time": "2025-04-12T17:31:24.850947Z"
    }
   },
   "source": [
    "final_score = evaluate(\n",
    "  make_final_env(),\n",
    "    agent, n_games=30, greedy=True, t_max=10 * 1000, seed=9\n",
    ")\n",
    "print('final score:', final_score)\n",
    "assert final_score >= 3, 'not as cool as DQN can'\n",
    "print('Cool!')"
   ],
   "outputs": [
    {
     "name": "stdout",
     "output_type": "stream",
     "text": [
      "final score: 0.0\n"
     ]
    },
    {
     "ename": "AssertionError",
     "evalue": "not as cool as DQN can",
     "output_type": "error",
     "traceback": [
      "\u001B[31m---------------------------------------------------------------------------\u001B[39m",
      "\u001B[31mAssertionError\u001B[39m                            Traceback (most recent call last)",
      "\u001B[36mCell\u001B[39m\u001B[36m \u001B[39m\u001B[32mIn[49]\u001B[39m\u001B[32m, line 6\u001B[39m\n\u001B[32m      1\u001B[39m final_score = evaluate(\n\u001B[32m      2\u001B[39m   make_final_env(),\n\u001B[32m      3\u001B[39m     agent, n_games=\u001B[32m30\u001B[39m, greedy=\u001B[38;5;28;01mTrue\u001B[39;00m, t_max=\u001B[32m10\u001B[39m * \u001B[32m1000\u001B[39m, seed=\u001B[32m9\u001B[39m\n\u001B[32m      4\u001B[39m )\n\u001B[32m      5\u001B[39m \u001B[38;5;28mprint\u001B[39m(\u001B[33m'\u001B[39m\u001B[33mfinal score:\u001B[39m\u001B[33m'\u001B[39m, final_score)\n\u001B[32m----> \u001B[39m\u001B[32m6\u001B[39m \u001B[38;5;28;01massert\u001B[39;00m final_score >= \u001B[32m3\u001B[39m, \u001B[33m'\u001B[39m\u001B[33mnot as cool as DQN can\u001B[39m\u001B[33m'\u001B[39m\n\u001B[32m      7\u001B[39m \u001B[38;5;28mprint\u001B[39m(\u001B[33m'\u001B[39m\u001B[33mCool!\u001B[39m\u001B[33m'\u001B[39m)\n",
      "\u001B[31mAssertionError\u001B[39m: not as cool as DQN can"
     ]
    }
   ],
   "execution_count": 49
  },
  {
   "metadata": {
    "ExecuteTime": {
     "end_time": "2025-04-12T17:31:28.328742Z",
     "start_time": "2025-04-12T17:31:28.231650Z"
    }
   },
   "cell_type": "code",
   "source": [
    "from dqn.analysis import play_and_log_episode\n",
    "\n",
    "env = make_final_env()\n",
    "stats = play_and_log_episode(env, agent)\n",
    "\n",
    "print(\"Keys:\", list(stats.keys()))\n",
    "print(\"Shapes:\")\n",
    "for key in [\"states\", \"qvalues\", \"actions\", \"rewards\"]:\n",
    "    print(f\"{key}: {stats[key].shape}\")\n",
    "print(\"terminated:\", stats[\"episode_finished\"])"
   ],
   "outputs": [
    {
     "name": "stdout",
     "output_type": "stream",
     "text": [
      "Keys: ['states', 'qvalues', 'actions', 'rewards', 'episode_finished']\n",
      "Shapes:\n",
      "states: (24, 4, 84, 84)\n",
      "qvalues: (23, 4)\n",
      "actions: (23,)\n",
      "rewards: (23,)\n",
      "terminated: True\n"
     ]
    }
   ],
   "execution_count": 50
  },
  {
   "cell_type": "markdown",
   "metadata": {},
   "source": [
    "Let's plot rewards:"
   ]
  },
  {
   "metadata": {},
   "cell_type": "markdown",
   "source": ""
  },
  {
   "metadata": {},
   "cell_type": "markdown",
   "source": [
    "Now i calculate next statistics:\n",
    "\n",
    "1. Discounted returns: $G[t] = \\sum_{t'=t}^T \\gamma ^ {t' - t}r[t]$, where $T$ is the total time of an episode.\n",
    "2. State Values estimated by the agent: $V_{agent}[t] = \\max_{a}Q_{agent}(s[t], a)$.\n",
    "3. Q-spread: $\\Delta Q[t] = \\max_{a}Q_{agent}(s[t], a) - \\min_{a}Q_{agent}(s[t], a)$"
   ]
  },
  {
   "cell_type": "markdown",
   "metadata": {
    "id": "e36bU0u8soUH"
   },
   "source": [
    "## Bonus I (2 pts). Get High Score!\n",
    "\n",
    "Get mean reward per life:\n",
    "1. $\\geq 20$: +1 pt\n",
    "2. $\\geq 40$: +2 pts"
   ]
  },
  {
   "metadata": {
    "ExecuteTime": {
     "end_time": "2025-04-12T17:31:30.309624Z",
     "start_time": "2025-04-12T17:31:30.305912Z"
    }
   },
   "cell_type": "code",
   "source": [
    "class PrioritizeReplayBuffer(object):\n",
    "    def __init__(self, size, alpha=0.6):\n",
    "        self._maxsize = size\n",
    "        self.buffer = []\n",
    "        self.priorities = []\n",
    "        self.pos = 0\n",
    "        self.alpha = alpha\n",
    "\n",
    "    def __len__(self):\n",
    "        return len(self.buffer)\n",
    "\n",
    "    def update_priority(self, idx, priority):\n",
    "        self.priorities[idx] = priority\n",
    "\n",
    "    def update_priorities(self, new_priorities):\n",
    "        self.priorities = new_priorities\n",
    "\n",
    "    def add(self, obs_t, action, reward, obs_tp1, done):\n",
    "        max_priority = max(self.priorities) if self.priorities else 1.0\n",
    "        if len(self.buffer) < self._maxsize:\n",
    "            self.buffer.append((obs_t, action, reward, obs_tp1, done))\n",
    "            self.priorities.append(max_priority)\n",
    "        else:\n",
    "            self.buffer[self.pos] = (obs_t, action, reward, obs_tp1, done)\n",
    "            self.priorities[self.pos] = max_priority\n",
    "            self.pos = (self.pos + 1) % self._maxsize\n",
    "        assert len(self.buffer) == len(self.priorities), (\n",
    "            f'buffer size and priorities do not match: ({len(self.buffer)}) != ({len(self.priorities)})'\n",
    "        )\n",
    "\n",
    "    def get_priorities(self):\n",
    "        priorities = np.array(self.priorities, dtype=np.float32)\n",
    "        scaled_priorities = priorities ** self.alpha\n",
    "        return scaled_priorities / scaled_priorities.sum()\n",
    "\n",
    "    def sample(self, batch_size):\n",
    "        p = self.get_priorities()\n",
    "        indices = np.random.choice(len(self.buffer), batch_size, p=p)\n",
    "        batch = [self.buffer[i] for i in indices]\n",
    "        obs_t, action, reward, obs_tp1, done = zip(*batch)\n",
    "        return (np.array(obs_t),\n",
    "                np.array(action),\n",
    "                np.array(reward),\n",
    "                np.array(obs_tp1),\n",
    "                np.array(done),\n",
    "                indices)\n"
   ],
   "outputs": [],
   "execution_count": 51
  },
  {
   "metadata": {
    "ExecuteTime": {
     "end_time": "2025-04-12T17:31:31.651635Z",
     "start_time": "2025-04-12T17:31:31.649224Z"
    }
   },
   "cell_type": "code",
   "source": [
    "@torch.no_grad()\n",
    "def play_and_record_prioritize_observations(initial_state, action_sampler, env, exp_replay, n_steps=1):\n",
    "    s = initial_state\n",
    "    sum_rewards = 0\n",
    "\n",
    "    for _ in range(n_steps):\n",
    "        action = action_sampler(s)\n",
    "        next_s, reward, terminated, truncated, _ = env.step(action)\n",
    "        sum_rewards += reward\n",
    "        exp_replay.add(s, action, reward, next_s, terminated)\n",
    "        if terminated or truncated:\n",
    "            s, _ = env.reset()\n",
    "        else:\n",
    "            s = next_s\n",
    "    return sum_rewards, s"
   ],
   "outputs": [],
   "execution_count": 52
  },
  {
   "metadata": {},
   "cell_type": "markdown",
   "source": ""
  },
  {
   "metadata": {
    "ExecuteTime": {
     "end_time": "2025-04-12T17:31:33.115495Z",
     "start_time": "2025-04-12T17:31:32.986126Z"
    }
   },
   "cell_type": "code",
   "source": [
    "agent = DQNAgent(DQNetworkDueling(N_FRAMES_STACKED, N_ACTIONS), epsilon=0.5).to(device)\n",
    "agent.load_state_dict(torch.load(\"proportional_dqn_last_state_dict.pt\"))"
   ],
   "outputs": [
    {
     "data": {
      "text/plain": [
       "<All keys matched successfully>"
      ]
     },
     "execution_count": 53,
     "metadata": {},
     "output_type": "execute_result"
    }
   ],
   "execution_count": 53
  },
  {
   "cell_type": "markdown",
   "metadata": {
    "id": "78e4nRoSsoUH"
   },
   "source": [
    "## Bonus II (2+ pts). Apply modifications to DQN.\n",
    "\n",
    "* [Prioritized experience replay](https://arxiv.org/abs/1511.05952) (2 pts, please check for effective open-source implementations)\n",
    "* [Noisy Nets](https://arxiv.org/abs/1706.10295) (2 pts, please, pay attention to the exploration policy and whether epsilon-greedy policy is used)\n",
    "* [distributional RL](https://arxiv.org/abs/1707.06887)(distributional and distributed stand for different things here) (3 pts)\n",
    "* Other modifications (2+ pts depending on complexity)"
   ]
  },
  {
   "cell_type": "markdown",
   "metadata": {
    "id": "j_3RXboysoUH"
   },
   "source": [
    "## Bonus III (2 pts). Distributed RL.\n",
    "\n",
    "https://gymnasium.farama.org/api/vector/#gymnasium.vector.AsyncVectorEnv"
   ]
  },
  {
   "metadata": {
    "ExecuteTime": {
     "end_time": "2025-04-12T17:31:39.902411Z",
     "start_time": "2025-04-12T17:31:39.848015Z"
    }
   },
   "cell_type": "code",
   "source": "make_final_env()",
   "outputs": [
    {
     "data": {
      "text/plain": [
       "<FrameStackObservation<FireResetEnv<EpisodicLifeEnv<AtariPreprocessing<OrderEnforcing<PassiveEnvChecker<AtariEnv<ALE/Breakout-v5>>>>>>>>"
      ]
     },
     "execution_count": 55,
     "metadata": {},
     "output_type": "execute_result"
    }
   ],
   "execution_count": 55
  },
  {
   "metadata": {
    "ExecuteTime": {
     "end_time": "2025-04-12T17:31:40.675785Z",
     "start_time": "2025-04-12T17:31:40.608761Z"
    }
   },
   "cell_type": "code",
   "source": [
    "import random\n",
    "import numpy as np\n",
    "import gym\n",
    "import torch\n",
    "import torch.nn as nn\n",
    "import torch.optim as optim\n",
    "import torch.nn.functional as F\n",
    "from torch import optim\n",
    "from tqdm import trange\n",
    "import matplotlib.pyplot as plt\n",
    "\n",
    "# -------------------------------\n",
    "# Гиперпараметры\n",
    "# -------------------------------\n",
    "MEMORY_CAPACITY = 1_000_000         # Вместимость буфера воспроизведения\n",
    "BATCH_SIZE = 32                 # Размер минибатча\n",
    "NUM_TAU_SAMPLES = 8             # Число квантильных сэмплов\n",
    "GAMMA = 0.99                    # Коэффициент дисконтирования\n",
    "LEARNING_RATE = 1e-3            # Скорость обучения\n",
    "TARGET_UPDATE_FREQ = 1000       # Частота обновления целевой сети (в шагах)\n",
    "T_UPDATE = 4                    # Частота обучения (каждые T_UPDATE шагов)\n",
    "HUBER_KAPPA = 1.0               # Порог для квантильного Huber loss\n",
    "EPS_START = 1.0                 # Начальное значение ε\n",
    "EPS_END = 0.05                  # Минимальное ε\n",
    "EPS_DECAY = 10000               # Количество шагов для линейного снижения ε\n",
    "\n",
    "# Дополнительные параметры для логгирования и оценки\n",
    "total_steps = 1_000_000           # Общее число шагов обучения (можно менять)\n",
    "loss_freq = 100               # Частота логгирования значений потерь\n",
    "refresh_target_network_freq = 1000  # Частота обновления целевой сети\n",
    "eval_freq = 5000            # Частота проведения оценки\n",
    "max_grad_norm = 10.0          # Максимальное значение нормы градиентов для клиппинга\n",
    "\n",
    "device = torch.device(\"cuda\" if torch.cuda.is_available() else \"cpu\")"
   ],
   "outputs": [],
   "execution_count": 56
  },
  {
   "metadata": {
    "ExecuteTime": {
     "end_time": "2025-04-12T17:31:41.220899Z",
     "start_time": "2025-04-12T17:31:41.216954Z"
    }
   },
   "cell_type": "code",
   "source": [
    "class QuantileNetwork(nn.Module):\n",
    "    def __init__(self, input_shape, n_actions, quantile_embed_dim=64):\n",
    "        super(QuantileNetwork, self).__init__()\n",
    "        self.n_actions = n_actions\n",
    "        self.quantile_embed_dim = quantile_embed_dim\n",
    "\n",
    "        self.conv = nn.Sequential(\n",
    "            nn.Conv2d(input_shape[0], 32, kernel_size=8, stride=4),\n",
    "            nn.ReLU(),\n",
    "            nn.Conv2d(32, 64, kernel_size=4, stride=2),\n",
    "            nn.ReLU(),\n",
    "            nn.Conv2d(64, 64, kernel_size=3, stride=1),\n",
    "            nn.ReLU()\n",
    "        )\n",
    "        conv_out_size = self._get_conv_out(input_shape)\n",
    "        self.fc = nn.Linear(conv_out_size, 512)\n",
    "        self.quantile_fc = nn.Linear(quantile_embed_dim, 512)\n",
    "        self.fc_out = nn.Linear(512, n_actions)\n",
    "\n",
    "        for layer in [self.fc, self.quantile_fc, self.fc_out]:\n",
    "            nn.init.xavier_uniform_(layer.weight)\n",
    "            nn.init.constant_(layer.bias, 0)\n",
    "\n",
    "    def _get_conv_out(self, shape):\n",
    "        o = self.conv(torch.zeros(1, *shape))\n",
    "        return int(np.prod(o.size()))\n",
    "\n",
    "    def forward(self, state, tau):\n",
    "        batch_size = state.size(0)\n",
    "        conv_out = self.conv(state)\n",
    "        conv_out = conv_out.view(batch_size, -1)\n",
    "        state_feature = F.relu(self.fc(conv_out))  # [b, 512]\n",
    "\n",
    "        num_tau = tau.shape[0] // batch_size\n",
    "        state_feature = state_feature.unsqueeze(1).expand(-1, num_tau, -1)  # [b, num_tau, 512]\n",
    "\n",
    "        i_pi = torch.arange(1, self.quantile_embed_dim + 1, device=tau.device).float() * np.pi\n",
    "        tau = tau.view(batch_size, num_tau, 1)\n",
    "        tau_embedding = torch.cos(i_pi * tau)\n",
    "        tau_feature = F.relu(self.quantile_fc(tau_embedding))\n",
    "        combined = state_feature * tau_feature  # [b, num_tau, 512]\n",
    "        quantile_values = self.fc_out(combined)   # [b, num_tau, n_actions]\n",
    "        return quantile_values"
   ],
   "outputs": [],
   "execution_count": 57
  },
  {
   "metadata": {
    "ExecuteTime": {
     "end_time": "2025-04-12T17:31:41.741835Z",
     "start_time": "2025-04-12T17:31:41.739672Z"
    }
   },
   "cell_type": "code",
   "source": [
    "def quantile_huber_loss(td_errors, tau, kappa=HUBER_KAPPA):\n",
    "    abs_td_errors = torch.abs(td_errors)\n",
    "    huber_loss = torch.where(\n",
    "        abs_td_errors <= kappa,\n",
    "        0.5 * td_errors ** 2,\n",
    "        kappa * (abs_td_errors - 0.5 * kappa)\n",
    "    )\n",
    "    indicator = (td_errors < 0).float()\n",
    "    quantile_loss = torch.abs(tau - indicator) * huber_loss / kappa\n",
    "    return quantile_loss.mean()\n"
   ],
   "outputs": [],
   "execution_count": 58
  },
  {
   "metadata": {
    "ExecuteTime": {
     "end_time": "2025-04-12T17:39:09.170744Z",
     "start_time": "2025-04-12T17:39:09.167244Z"
    }
   },
   "cell_type": "code",
   "source": [
    "class DQNAgent:\n",
    "    def __init__(self, model, n_actions):\n",
    "        self.model = model\n",
    "        self.n_actions = n_actions\n",
    "        self.epsilon = EPS_START\n",
    "\n",
    "    def sample_actions(self, state_batch: np.ndarray, greedy: bool = False) -> np.ndarray:\n",
    "        self.model.eval()\n",
    "        with torch.no_grad():\n",
    "            state_tensor = torch.FloatTensor(state_batch).to(list(self.model.parameters())[0].device)\n",
    "            batch_size = state_tensor.size(0)\n",
    "\n",
    "\n",
    "            tau = torch.rand(batch_size * NUM_TAU_SAMPLES, 1, device=state_tensor.device)\n",
    "            q_values = self.model(state_tensor, tau)\n",
    "            q_values = q_values.view(batch_size, NUM_TAU_SAMPLES, self.n_actions)\n",
    "            avg_q = q_values.mean(dim=1)\n",
    "            best_actions = avg_q.argmax(dim=1).cpu().numpy()\n",
    "        if greedy:\n",
    "            return best_actions\n",
    "        actions = []\n",
    "        for i in range(batch_size):\n",
    "            if np.random.rand() < self.epsilon:\n",
    "                random_action = np.random.randint(self.n_actions)\n",
    "                actions.append(random_action)\n",
    "            else:\n",
    "                actions.append(best_actions[i])\n",
    "        return np.array(actions)\n",
    "    \n",
    "\n",
    "    def get_qvalues(self, state_batch: np.ndarray) -> np.ndarray:\n",
    "        self.model.eval()\n",
    "        with torch.no_grad():\n",
    "            state_tensor = torch.FloatTensor(state_batch).to(list(self.model.parameters())[0].device)\n",
    "            batch_size = state_tensor.size(0)\n",
    "            tau = torch.rand(batch_size * NUM_TAU_SAMPLES, 1, device=state_tensor.device)\n",
    "            q_values = self.model(state_tensor, tau)\n",
    "            q_values = q_values.view(batch_size, NUM_TAU_SAMPLES, self.model.n_actions)\n",
    "            avg_q = q_values.mean(dim=1)\n",
    "        return avg_q.cpu().numpy()"
   ],
   "outputs": [],
   "execution_count": 66
  },
  {
   "metadata": {
    "ExecuteTime": {
     "end_time": "2025-04-12T17:40:26.355954Z",
     "start_time": "2025-04-12T17:40:26.324039Z"
    }
   },
   "cell_type": "code",
   "source": [
    "replay_buffer = ReplayBuffer(MEMORY_CAPACITY)\n",
    "\n",
    "input_shape = env.observation_space.shape\n",
    "n_actions = env.action_space.n\n",
    "main_net = QuantileNetwork(input_shape, n_actions).to(device)\n",
    "target_net = QuantileNetwork(input_shape, n_actions).to(device)\n",
    "target_net.load_state_dict(main_net.state_dict())\n",
    "optimizer = optim.Adam(main_net.parameters(), lr=LEARNING_RATE)\n",
    "agent = DQNAgent(main_net, n_actions)\n",
    "logger = Logger(use_tensorboard=False)\n",
    "steps_done = 0\n",
    "\n",
    "# state, *_ = env.reset()\n",
    "# for _ in range(initial_random_steps):\n",
    "#     _, state = play_and_record(state, random_sampler, env, replay_buffer, n_steps=1)"
   ],
   "outputs": [],
   "execution_count": 70
  },
  {
   "metadata": {},
   "cell_type": "code",
   "source": [
    "for step in trange(total_steps):\n",
    "    agent.epsilon = linear_decay(EPS_START, EPS_END, steps_done, EPS_DECAY)\n",
    "\n",
    "    if random.random() < agent.epsilon:\n",
    "        action_sampler = RandomActionSampler(env.action_space)\n",
    "    else:\n",
    "        action_sampler = DqnActionSampler(agent)\n",
    "\n",
    "    _, state = play_and_record(state, action_sampler, env, replay_buffer, n_steps=T_UPDATE)\n",
    "\n",
    "    if len(replay_buffer) >= BATCH_SIZE:\n",
    "        obs, action, reward, next, done = replay_buffer.sample(BATCH_SIZE)\n",
    "        batch_state = torch.FloatTensor(obs).to(device)\n",
    "        batch_next_state = torch.FloatTensor(next).to(device)\n",
    "        batch_reward = torch.FloatTensor(reward).to(device)[:, None, ...]\n",
    "        batch_done = torch.FloatTensor(done).to(device)[:, None, ...]\n",
    "\n",
    "\n",
    "        # sampling tau from N(0, 1) for the first quantile\n",
    "        \n",
    "        n_tau = torch.rand(BATCH_SIZE * NUM_TAU_SAMPLES, 1, device=device)\n",
    "        current_quantiles = main_net(batch_state, n_tau)\n",
    "        current_quantiles = current_quantiles.view(BATCH_SIZE, NUM_TAU_SAMPLES, n_actions)\n",
    "        batch_action_tensor = torch.LongTensor(action).to(device)[:, None, None, ...]\n",
    "        current_quantiles = current_quantiles.gather(2, batch_action_tensor.expand(-1, NUM_TAU_SAMPLES, 1))\n",
    "\n",
    "        with torch.no_grad():\n",
    "            tau_target = torch.rand(BATCH_SIZE * NUM_TAU_SAMPLES, 1, device=device)\n",
    "            next_quantiles_main = main_net(batch_next_state, tau_target)\n",
    "            next_quantiles_main = next_quantiles_main.view(BATCH_SIZE, NUM_TAU_SAMPLES, n_actions)\n",
    "            q_values_next = next_quantiles_main.mean(dim=1)\n",
    "            best_actions = q_values_next.argmax(dim=1)\n",
    "            next_quantiles_target = target_net(batch_next_state, tau_target)\n",
    "            next_quantiles_target = next_quantiles_target.view(BATCH_SIZE, NUM_TAU_SAMPLES, n_actions)\n",
    "            next_quantiles_target = next_quantiles_target.gather(\n",
    "                2, best_actions[:, None, None, ...].expand(-1, NUM_TAU_SAMPLES, 1)\n",
    "            )\n",
    "            y_target = batch_reward.unsqueeze(1) + (1 - batch_done.unsqueeze(1)) * GAMMA * next_quantiles_target\n",
    "            y_target = y_target.detach()\n",
    "\n",
    "        current_quantiles_expanded = current_quantiles  # [BATCH_SIZE, NUM_TAU_SAMPLES, 1]\n",
    "        y_target_expanded = y_target.transpose(1, 2)      # [BATCH_SIZE, 1, NUM_TAU_SAMPLES]\n",
    "        td_errors = y_target_expanded - current_quantiles_expanded\n",
    "        tau_main = n_tau.view(BATCH_SIZE, NUM_TAU_SAMPLES, 1)\n",
    "        loss = quantile_huber_loss(td_errors, tau_main, kappa=HUBER_KAPPA)\n",
    "\n",
    "        optimizer.zero_grad()\n",
    "        loss.backward()\n",
    "        grad_norm = nn.utils.clip_grad_norm_(main_net.parameters(), max_grad_norm)\n",
    "        optimizer.step()\n",
    "\n",
    "        if step % loss_freq == 0:\n",
    "            loss_value = loss.data.cpu().item()\n",
    "            grad_norm_value = grad_norm.cpu().item() if isinstance(grad_norm, torch.Tensor) else grad_norm\n",
    "            logger.log_loss(loss_value, step)\n",
    "            logger.log_grad_norm(grad_norm_value, step)\n",
    "\n",
    "    if step % TARGET_UPDATE_FREQ == 0:\n",
    "        target_net.load_state_dict(main_net.state_dict())\n",
    "        torch.save(main_net.state_dict(), \"distr_rl_last_state_dict.pt\")\n",
    "\n",
    "    if step % eval_freq == 0:\n",
    "        mean_reward = evaluate(env, agent, n_games=3, greedy=True, seed=step)\n",
    "        initial_state_q_values = agent.get_qvalues([env.reset(seed=step)[0]])\n",
    "        initial_v = np.max(initial_state_q_values).item()\n",
    "        logger.log_mean_reward(mean_reward, step)\n",
    "        logger.log_initial_state_v(initial_v, step)\n",
    "        \n",
    "        clear_output(True)\n",
    "        print(\"Buffer size = %i, Epsilon = %.5f\" % (len(exp_replay), agent.epsilon))\n",
    "        logger.plot()"
   ],
   "execution_count": 71,
   "outputs": [
    {
     "data": {
      "text/plain": [
       "<Figure size 1600x900 with 4 Axes>"
      ],
      "image/png": "[encoded data removed]"
     },
     "metadata": {},
     "output_type": "display_data"
    },
    {
     "name": "stderr",
     "output_type": "stream",
     "text": [
      "  0%|          | 901/1000000 [01:24<25:53:36, 10.72it/s]\n"
     ]
    },
    {
     "ename": "KeyboardInterrupt",
     "evalue": "",
     "output_type": "error",
     "traceback": [
      "\u001B[31m---------------------------------------------------------------------------\u001B[39m",
      "\u001B[31mKeyboardInterrupt\u001B[39m                         Traceback (most recent call last)",
      "\u001B[36mCell\u001B[39m\u001B[36m \u001B[39m\u001B[32mIn[71]\u001B[39m\u001B[32m, line 33\u001B[39m\n\u001B[32m     31\u001B[39m q_values_next = next_quantiles_main.mean(dim=\u001B[32m1\u001B[39m)\n\u001B[32m     32\u001B[39m best_actions = q_values_next.argmax(dim=\u001B[32m1\u001B[39m)\n\u001B[32m---> \u001B[39m\u001B[32m33\u001B[39m next_quantiles_target = \u001B[43mtarget_net\u001B[49m\u001B[43m(\u001B[49m\u001B[43mbatch_next_state\u001B[49m\u001B[43m,\u001B[49m\u001B[43m \u001B[49m\u001B[43mtau_target\u001B[49m\u001B[43m)\u001B[49m\n\u001B[32m     34\u001B[39m next_quantiles_target = next_quantiles_target.view(BATCH_SIZE, NUM_TAU_SAMPLES, n_actions)\n\u001B[32m     35\u001B[39m next_quantiles_target = next_quantiles_target.gather(\n\u001B[32m     36\u001B[39m     \u001B[32m2\u001B[39m, best_actions[:, \u001B[38;5;28;01mNone\u001B[39;00m, \u001B[38;5;28;01mNone\u001B[39;00m, ...].expand(-\u001B[32m1\u001B[39m, NUM_TAU_SAMPLES, \u001B[32m1\u001B[39m)\n\u001B[32m     37\u001B[39m )\n",
      "\u001B[36mFile \u001B[39m\u001B[32m~/Documents/ml/ysda/Practical_RL/.venv/lib/python3.13/site-packages/torch/nn/modules/module.py:1739\u001B[39m, in \u001B[36mModule._wrapped_call_impl\u001B[39m\u001B[34m(self, *args, **kwargs)\u001B[39m\n\u001B[32m   1737\u001B[39m     \u001B[38;5;28;01mreturn\u001B[39;00m \u001B[38;5;28mself\u001B[39m._compiled_call_impl(*args, **kwargs)  \u001B[38;5;66;03m# type: ignore[misc]\u001B[39;00m\n\u001B[32m   1738\u001B[39m \u001B[38;5;28;01melse\u001B[39;00m:\n\u001B[32m-> \u001B[39m\u001B[32m1739\u001B[39m     \u001B[38;5;28;01mreturn\u001B[39;00m \u001B[38;5;28;43mself\u001B[39;49m\u001B[43m.\u001B[49m\u001B[43m_call_impl\u001B[49m\u001B[43m(\u001B[49m\u001B[43m*\u001B[49m\u001B[43margs\u001B[49m\u001B[43m,\u001B[49m\u001B[43m \u001B[49m\u001B[43m*\u001B[49m\u001B[43m*\u001B[49m\u001B[43mkwargs\u001B[49m\u001B[43m)\u001B[49m\n",
      "\u001B[36mFile \u001B[39m\u001B[32m~/Documents/ml/ysda/Practical_RL/.venv/lib/python3.13/site-packages/torch/nn/modules/module.py:1750\u001B[39m, in \u001B[36mModule._call_impl\u001B[39m\u001B[34m(self, *args, **kwargs)\u001B[39m\n\u001B[32m   1745\u001B[39m \u001B[38;5;66;03m# If we don't have any hooks, we want to skip the rest of the logic in\u001B[39;00m\n\u001B[32m   1746\u001B[39m \u001B[38;5;66;03m# this function, and just call forward.\u001B[39;00m\n\u001B[32m   1747\u001B[39m \u001B[38;5;28;01mif\u001B[39;00m \u001B[38;5;129;01mnot\u001B[39;00m (\u001B[38;5;28mself\u001B[39m._backward_hooks \u001B[38;5;129;01mor\u001B[39;00m \u001B[38;5;28mself\u001B[39m._backward_pre_hooks \u001B[38;5;129;01mor\u001B[39;00m \u001B[38;5;28mself\u001B[39m._forward_hooks \u001B[38;5;129;01mor\u001B[39;00m \u001B[38;5;28mself\u001B[39m._forward_pre_hooks\n\u001B[32m   1748\u001B[39m         \u001B[38;5;129;01mor\u001B[39;00m _global_backward_pre_hooks \u001B[38;5;129;01mor\u001B[39;00m _global_backward_hooks\n\u001B[32m   1749\u001B[39m         \u001B[38;5;129;01mor\u001B[39;00m _global_forward_hooks \u001B[38;5;129;01mor\u001B[39;00m _global_forward_pre_hooks):\n\u001B[32m-> \u001B[39m\u001B[32m1750\u001B[39m     \u001B[38;5;28;01mreturn\u001B[39;00m \u001B[43mforward_call\u001B[49m\u001B[43m(\u001B[49m\u001B[43m*\u001B[49m\u001B[43margs\u001B[49m\u001B[43m,\u001B[49m\u001B[43m \u001B[49m\u001B[43m*\u001B[49m\u001B[43m*\u001B[49m\u001B[43mkwargs\u001B[49m\u001B[43m)\u001B[49m\n\u001B[32m   1752\u001B[39m result = \u001B[38;5;28;01mNone\u001B[39;00m\n\u001B[32m   1753\u001B[39m called_always_called_hooks = \u001B[38;5;28mset\u001B[39m()\n",
      "\u001B[36mCell\u001B[39m\u001B[36m \u001B[39m\u001B[32mIn[57]\u001B[39m\u001B[32m, line 30\u001B[39m, in \u001B[36mQuantileNetwork.forward\u001B[39m\u001B[34m(self, state, tau)\u001B[39m\n\u001B[32m     28\u001B[39m \u001B[38;5;28;01mdef\u001B[39;00m\u001B[38;5;250m \u001B[39m\u001B[34mforward\u001B[39m(\u001B[38;5;28mself\u001B[39m, state, tau):\n\u001B[32m     29\u001B[39m     batch_size = state.size(\u001B[32m0\u001B[39m)\n\u001B[32m---> \u001B[39m\u001B[32m30\u001B[39m     conv_out = \u001B[38;5;28;43mself\u001B[39;49m\u001B[43m.\u001B[49m\u001B[43mconv\u001B[49m\u001B[43m(\u001B[49m\u001B[43mstate\u001B[49m\u001B[43m)\u001B[49m\n\u001B[32m     31\u001B[39m     conv_out = conv_out.view(batch_size, -\u001B[32m1\u001B[39m)\n\u001B[32m     32\u001B[39m     state_feature = F.relu(\u001B[38;5;28mself\u001B[39m.fc(conv_out))  \u001B[38;5;66;03m# [b, 512]\u001B[39;00m\n",
      "\u001B[36mFile \u001B[39m\u001B[32m~/Documents/ml/ysda/Practical_RL/.venv/lib/python3.13/site-packages/torch/nn/modules/module.py:1739\u001B[39m, in \u001B[36mModule._wrapped_call_impl\u001B[39m\u001B[34m(self, *args, **kwargs)\u001B[39m\n\u001B[32m   1737\u001B[39m     \u001B[38;5;28;01mreturn\u001B[39;00m \u001B[38;5;28mself\u001B[39m._compiled_call_impl(*args, **kwargs)  \u001B[38;5;66;03m# type: ignore[misc]\u001B[39;00m\n\u001B[32m   1738\u001B[39m \u001B[38;5;28;01melse\u001B[39;00m:\n\u001B[32m-> \u001B[39m\u001B[32m1739\u001B[39m     \u001B[38;5;28;01mreturn\u001B[39;00m \u001B[38;5;28;43mself\u001B[39;49m\u001B[43m.\u001B[49m\u001B[43m_call_impl\u001B[49m\u001B[43m(\u001B[49m\u001B[43m*\u001B[49m\u001B[43margs\u001B[49m\u001B[43m,\u001B[49m\u001B[43m \u001B[49m\u001B[43m*\u001B[49m\u001B[43m*\u001B[49m\u001B[43mkwargs\u001B[49m\u001B[43m)\u001B[49m\n",
      "\u001B[36mFile \u001B[39m\u001B[32m~/Documents/ml/ysda/Practical_RL/.venv/lib/python3.13/site-packages/torch/nn/modules/module.py:1750\u001B[39m, in \u001B[36mModule._call_impl\u001B[39m\u001B[34m(self, *args, **kwargs)\u001B[39m\n\u001B[32m   1745\u001B[39m \u001B[38;5;66;03m# If we don't have any hooks, we want to skip the rest of the logic in\u001B[39;00m\n\u001B[32m   1746\u001B[39m \u001B[38;5;66;03m# this function, and just call forward.\u001B[39;00m\n\u001B[32m   1747\u001B[39m \u001B[38;5;28;01mif\u001B[39;00m \u001B[38;5;129;01mnot\u001B[39;00m (\u001B[38;5;28mself\u001B[39m._backward_hooks \u001B[38;5;129;01mor\u001B[39;00m \u001B[38;5;28mself\u001B[39m._backward_pre_hooks \u001B[38;5;129;01mor\u001B[39;00m \u001B[38;5;28mself\u001B[39m._forward_hooks \u001B[38;5;129;01mor\u001B[39;00m \u001B[38;5;28mself\u001B[39m._forward_pre_hooks\n\u001B[32m   1748\u001B[39m         \u001B[38;5;129;01mor\u001B[39;00m _global_backward_pre_hooks \u001B[38;5;129;01mor\u001B[39;00m _global_backward_hooks\n\u001B[32m   1749\u001B[39m         \u001B[38;5;129;01mor\u001B[39;00m _global_forward_hooks \u001B[38;5;129;01mor\u001B[39;00m _global_forward_pre_hooks):\n\u001B[32m-> \u001B[39m\u001B[32m1750\u001B[39m     \u001B[38;5;28;01mreturn\u001B[39;00m \u001B[43mforward_call\u001B[49m\u001B[43m(\u001B[49m\u001B[43m*\u001B[49m\u001B[43margs\u001B[49m\u001B[43m,\u001B[49m\u001B[43m \u001B[49m\u001B[43m*\u001B[49m\u001B[43m*\u001B[49m\u001B[43mkwargs\u001B[49m\u001B[43m)\u001B[49m\n\u001B[32m   1752\u001B[39m result = \u001B[38;5;28;01mNone\u001B[39;00m\n\u001B[32m   1753\u001B[39m called_always_called_hooks = \u001B[38;5;28mset\u001B[39m()\n",
      "\u001B[36mFile \u001B[39m\u001B[32m~/Documents/ml/ysda/Practical_RL/.venv/lib/python3.13/site-packages/torch/nn/modules/container.py:250\u001B[39m, in \u001B[36mSequential.forward\u001B[39m\u001B[34m(self, input)\u001B[39m\n\u001B[32m    248\u001B[39m \u001B[38;5;28;01mdef\u001B[39;00m\u001B[38;5;250m \u001B[39m\u001B[34mforward\u001B[39m(\u001B[38;5;28mself\u001B[39m, \u001B[38;5;28minput\u001B[39m):\n\u001B[32m    249\u001B[39m     \u001B[38;5;28;01mfor\u001B[39;00m module \u001B[38;5;129;01min\u001B[39;00m \u001B[38;5;28mself\u001B[39m:\n\u001B[32m--> \u001B[39m\u001B[32m250\u001B[39m         \u001B[38;5;28minput\u001B[39m = \u001B[43mmodule\u001B[49m\u001B[43m(\u001B[49m\u001B[38;5;28;43minput\u001B[39;49m\u001B[43m)\u001B[49m\n\u001B[32m    251\u001B[39m     \u001B[38;5;28;01mreturn\u001B[39;00m \u001B[38;5;28minput\u001B[39m\n",
      "\u001B[36mFile \u001B[39m\u001B[32m~/Documents/ml/ysda/Practical_RL/.venv/lib/python3.13/site-packages/torch/nn/modules/module.py:1739\u001B[39m, in \u001B[36mModule._wrapped_call_impl\u001B[39m\u001B[34m(self, *args, **kwargs)\u001B[39m\n\u001B[32m   1737\u001B[39m     \u001B[38;5;28;01mreturn\u001B[39;00m \u001B[38;5;28mself\u001B[39m._compiled_call_impl(*args, **kwargs)  \u001B[38;5;66;03m# type: ignore[misc]\u001B[39;00m\n\u001B[32m   1738\u001B[39m \u001B[38;5;28;01melse\u001B[39;00m:\n\u001B[32m-> \u001B[39m\u001B[32m1739\u001B[39m     \u001B[38;5;28;01mreturn\u001B[39;00m \u001B[38;5;28;43mself\u001B[39;49m\u001B[43m.\u001B[49m\u001B[43m_call_impl\u001B[49m\u001B[43m(\u001B[49m\u001B[43m*\u001B[49m\u001B[43margs\u001B[49m\u001B[43m,\u001B[49m\u001B[43m \u001B[49m\u001B[43m*\u001B[49m\u001B[43m*\u001B[49m\u001B[43mkwargs\u001B[49m\u001B[43m)\u001B[49m\n",
      "\u001B[36mFile \u001B[39m\u001B[32m~/Documents/ml/ysda/Practical_RL/.venv/lib/python3.13/site-packages/torch/nn/modules/module.py:1750\u001B[39m, in \u001B[36mModule._call_impl\u001B[39m\u001B[34m(self, *args, **kwargs)\u001B[39m\n\u001B[32m   1745\u001B[39m \u001B[38;5;66;03m# If we don't have any hooks, we want to skip the rest of the logic in\u001B[39;00m\n\u001B[32m   1746\u001B[39m \u001B[38;5;66;03m# this function, and just call forward.\u001B[39;00m\n\u001B[32m   1747\u001B[39m \u001B[38;5;28;01mif\u001B[39;00m \u001B[38;5;129;01mnot\u001B[39;00m (\u001B[38;5;28mself\u001B[39m._backward_hooks \u001B[38;5;129;01mor\u001B[39;00m \u001B[38;5;28mself\u001B[39m._backward_pre_hooks \u001B[38;5;129;01mor\u001B[39;00m \u001B[38;5;28mself\u001B[39m._forward_hooks \u001B[38;5;129;01mor\u001B[39;00m \u001B[38;5;28mself\u001B[39m._forward_pre_hooks\n\u001B[32m   1748\u001B[39m         \u001B[38;5;129;01mor\u001B[39;00m _global_backward_pre_hooks \u001B[38;5;129;01mor\u001B[39;00m _global_backward_hooks\n\u001B[32m   1749\u001B[39m         \u001B[38;5;129;01mor\u001B[39;00m _global_forward_hooks \u001B[38;5;129;01mor\u001B[39;00m _global_forward_pre_hooks):\n\u001B[32m-> \u001B[39m\u001B[32m1750\u001B[39m     \u001B[38;5;28;01mreturn\u001B[39;00m \u001B[43mforward_call\u001B[49m\u001B[43m(\u001B[49m\u001B[43m*\u001B[49m\u001B[43margs\u001B[49m\u001B[43m,\u001B[49m\u001B[43m \u001B[49m\u001B[43m*\u001B[49m\u001B[43m*\u001B[49m\u001B[43mkwargs\u001B[49m\u001B[43m)\u001B[49m\n\u001B[32m   1752\u001B[39m result = \u001B[38;5;28;01mNone\u001B[39;00m\n\u001B[32m   1753\u001B[39m called_always_called_hooks = \u001B[38;5;28mset\u001B[39m()\n",
      "\u001B[36mFile \u001B[39m\u001B[32m~/Documents/ml/ysda/Practical_RL/.venv/lib/python3.13/site-packages/torch/nn/modules/conv.py:554\u001B[39m, in \u001B[36mConv2d.forward\u001B[39m\u001B[34m(self, input)\u001B[39m\n\u001B[32m    553\u001B[39m \u001B[38;5;28;01mdef\u001B[39;00m\u001B[38;5;250m \u001B[39m\u001B[34mforward\u001B[39m(\u001B[38;5;28mself\u001B[39m, \u001B[38;5;28minput\u001B[39m: Tensor) -> Tensor:\n\u001B[32m--> \u001B[39m\u001B[32m554\u001B[39m     \u001B[38;5;28;01mreturn\u001B[39;00m \u001B[38;5;28;43mself\u001B[39;49m\u001B[43m.\u001B[49m\u001B[43m_conv_forward\u001B[49m\u001B[43m(\u001B[49m\u001B[38;5;28;43minput\u001B[39;49m\u001B[43m,\u001B[49m\u001B[43m \u001B[49m\u001B[38;5;28;43mself\u001B[39;49m\u001B[43m.\u001B[49m\u001B[43mweight\u001B[49m\u001B[43m,\u001B[49m\u001B[43m \u001B[49m\u001B[38;5;28;43mself\u001B[39;49m\u001B[43m.\u001B[49m\u001B[43mbias\u001B[49m\u001B[43m)\u001B[49m\n",
      "\u001B[36mFile \u001B[39m\u001B[32m~/Documents/ml/ysda/Practical_RL/.venv/lib/python3.13/site-packages/torch/nn/modules/conv.py:549\u001B[39m, in \u001B[36mConv2d._conv_forward\u001B[39m\u001B[34m(self, input, weight, bias)\u001B[39m\n\u001B[32m    537\u001B[39m \u001B[38;5;28;01mif\u001B[39;00m \u001B[38;5;28mself\u001B[39m.padding_mode != \u001B[33m\"\u001B[39m\u001B[33mzeros\u001B[39m\u001B[33m\"\u001B[39m:\n\u001B[32m    538\u001B[39m     \u001B[38;5;28;01mreturn\u001B[39;00m F.conv2d(\n\u001B[32m    539\u001B[39m         F.pad(\n\u001B[32m    540\u001B[39m             \u001B[38;5;28minput\u001B[39m, \u001B[38;5;28mself\u001B[39m._reversed_padding_repeated_twice, mode=\u001B[38;5;28mself\u001B[39m.padding_mode\n\u001B[32m   (...)\u001B[39m\u001B[32m    547\u001B[39m         \u001B[38;5;28mself\u001B[39m.groups,\n\u001B[32m    548\u001B[39m     )\n\u001B[32m--> \u001B[39m\u001B[32m549\u001B[39m \u001B[38;5;28;01mreturn\u001B[39;00m \u001B[43mF\u001B[49m\u001B[43m.\u001B[49m\u001B[43mconv2d\u001B[49m\u001B[43m(\u001B[49m\n\u001B[32m    550\u001B[39m \u001B[43m    \u001B[49m\u001B[38;5;28;43minput\u001B[39;49m\u001B[43m,\u001B[49m\u001B[43m \u001B[49m\u001B[43mweight\u001B[49m\u001B[43m,\u001B[49m\u001B[43m \u001B[49m\u001B[43mbias\u001B[49m\u001B[43m,\u001B[49m\u001B[43m \u001B[49m\u001B[38;5;28;43mself\u001B[39;49m\u001B[43m.\u001B[49m\u001B[43mstride\u001B[49m\u001B[43m,\u001B[49m\u001B[43m \u001B[49m\u001B[38;5;28;43mself\u001B[39;49m\u001B[43m.\u001B[49m\u001B[43mpadding\u001B[49m\u001B[43m,\u001B[49m\u001B[43m \u001B[49m\u001B[38;5;28;43mself\u001B[39;49m\u001B[43m.\u001B[49m\u001B[43mdilation\u001B[49m\u001B[43m,\u001B[49m\u001B[43m \u001B[49m\u001B[38;5;28;43mself\u001B[39;49m\u001B[43m.\u001B[49m\u001B[43mgroups\u001B[49m\n\u001B[32m    551\u001B[39m \u001B[43m\u001B[49m\u001B[43m)\u001B[49m\n",
      "\u001B[31mKeyboardInterrupt\u001B[39m: "
     ]
    }
   ]
  },
  {
   "metadata": {
    "ExecuteTime": {
     "end_time": "2025-04-12T17:39:14.287214Z",
     "start_time": "2025-04-12T17:38:40.902456Z"
    }
   },
   "cell_type": "code",
   "source": "",
   "outputs": [],
   "execution_count": null
  },
  {
   "metadata": {},
   "cell_type": "code",
   "outputs": [],
   "execution_count": null,
   "source": ""
  }
 ],
 "metadata": {
  "colab": {
   "provenance": []
  },
  "kernelspec": {
   "display_name": "Practical_RL",
   "language": "python",
   "name": "practical_rl"
  },
  "language_info": {
   "codemirror_mode": {
    "name": "ipython",
    "version": 3
   },
   "file_extension": ".py",
   "mimetype": "text/x-python",
   "name": "python",
   "nbconvert_exporter": "python",
   "pygments_lexer": "ipython3",
   "version": "3.10.12"
  }
 },
 "nbformat": 4,
 "nbformat_minor": 4
}
